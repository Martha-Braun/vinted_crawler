{
 "cells": [
  {
   "cell_type": "code",
   "execution_count": 8,
   "source": [
    "import sys\n",
    "\n",
    "sys.path.append('/Users/marthab/vinted_crawler/vinted_crawler')"
   ],
   "outputs": [],
   "metadata": {}
  },
  {
   "cell_type": "code",
   "execution_count": 9,
   "source": [
    "from confidential.conf_constants import *\n",
    "from constants.website_constants import *"
   ],
   "outputs": [],
   "metadata": {}
  },
  {
   "cell_type": "code",
   "execution_count": 3,
   "source": [
    "BRAND_ID"
   ],
   "outputs": [
    {
     "output_type": "execute_result",
     "data": {
      "text/plain": [
       "{'Jacquemus': 16827, 'Allessandra Rich': 1161017, 'Alexandre Vauthier': 22985}"
      ]
     },
     "metadata": {},
     "execution_count": 3
    }
   ],
   "metadata": {}
  },
  {
   "cell_type": "code",
   "execution_count": 6,
   "source": [
    "BRAND_ID[JACQUEMUS]"
   ],
   "outputs": [
    {
     "output_type": "execute_result",
     "data": {
      "text/plain": [
       "16827"
      ]
     },
     "metadata": {},
     "execution_count": 6
    }
   ],
   "metadata": {}
  },
  {
   "cell_type": "code",
   "execution_count": 10,
   "source": [
    "for brand in BRAND_LIST:\n",
    " print(brand)\n",
    " print(BRAND_ID[brand])"
   ],
   "outputs": [
    {
     "output_type": "stream",
     "name": "stdout",
     "text": [
      "Jacquemus\n",
      "16827\n",
      "Allessandra Rich\n",
      "1161017\n",
      "Alexandre Vauthier\n",
      "22985\n"
     ]
    }
   ],
   "metadata": {}
  },
  {
   "cell_type": "code",
   "execution_count": 8,
   "source": [
    "sys.path"
   ],
   "outputs": [
    {
     "output_type": "execute_result",
     "data": {
      "text/plain": [
       "['/Users/marthab/vinted_crawler/vinted_crawler/crawler',\n",
       " '/Users/marthab/.vscode/extensions/ms-toolsai.jupyter-2021.8.2031190714/pythonFiles',\n",
       " '/Users/marthab/.vscode/extensions/ms-toolsai.jupyter-2021.8.2031190714/pythonFiles/lib/python',\n",
       " '/Library/Developer/CommandLineTools/Library/Frameworks/Python3.framework/Versions/3.7/lib/python37.zip',\n",
       " '/Library/Developer/CommandLineTools/Library/Frameworks/Python3.framework/Versions/3.7/lib/python3.7',\n",
       " '/Library/Developer/CommandLineTools/Library/Frameworks/Python3.framework/Versions/3.7/lib/python3.7/lib-dynload',\n",
       " '',\n",
       " '/Users/marthab/Library/Caches/pypoetry/virtualenvs/vinted-crawler-package-zvLrHxc3-py3.7/lib/python3.7/site-packages',\n",
       " '/Users/marthab/Library/Caches/pypoetry/virtualenvs/vinted-crawler-package-zvLrHxc3-py3.7/lib/python3.7/site-packages/IPython/extensions',\n",
       " '/Users/marthab/.ipython',\n",
       " '/Users/marthab/vinted_crawler/vinted_crawler',\n",
       " '/Users/marthab/vinted_crawler/vinted_crawler']"
      ]
     },
     "metadata": {},
     "execution_count": 8
    }
   ],
   "metadata": {}
  },
  {
   "cell_type": "code",
   "execution_count": 3,
   "source": [
    "sys.path"
   ],
   "outputs": [
    {
     "output_type": "execute_result",
     "data": {
      "text/plain": [
       "['/Users/marthab/vinted_crawler/vinted_crawler/crawler',\n",
       " '..',\n",
       " '/Users/marthab/.vscode/extensions/ms-toolsai.jupyter-2021.8.2031190714/pythonFiles',\n",
       " '/Users/marthab/.vscode/extensions/ms-toolsai.jupyter-2021.8.2031190714/pythonFiles/lib/python',\n",
       " '/Library/Developer/CommandLineTools/Library/Frameworks/Python3.framework/Versions/3.7/lib/python37.zip',\n",
       " '/Library/Developer/CommandLineTools/Library/Frameworks/Python3.framework/Versions/3.7/lib/python3.7',\n",
       " '/Library/Developer/CommandLineTools/Library/Frameworks/Python3.framework/Versions/3.7/lib/python3.7/lib-dynload',\n",
       " '',\n",
       " '/Users/marthab/Library/Caches/pypoetry/virtualenvs/vinted-crawler-package-zvLrHxc3-py3.7/lib/python3.7/site-packages',\n",
       " '/Users/marthab/Library/Caches/pypoetry/virtualenvs/vinted-crawler-package-zvLrHxc3-py3.7/lib/python3.7/site-packages/IPython/extensions',\n",
       " '/Users/marthab/.ipython']"
      ]
     },
     "metadata": {},
     "execution_count": 3
    }
   ],
   "metadata": {}
  },
  {
   "cell_type": "code",
   "execution_count": null,
   "source": [],
   "outputs": [],
   "metadata": {}
  }
 ],
 "metadata": {
  "orig_nbformat": 4,
  "language_info": {
   "name": "python",
   "version": "3.7.3",
   "mimetype": "text/x-python",
   "codemirror_mode": {
    "name": "ipython",
    "version": 3
   },
   "pygments_lexer": "ipython3",
   "nbconvert_exporter": "python",
   "file_extension": ".py"
  },
  "kernelspec": {
   "name": "python3",
   "display_name": "Python 3.7.3 64-bit ('vinted-crawler-package-zvLrHxc3-py3.7': poetry)"
  },
  "interpreter": {
   "hash": "8eb28134678f2beb3d6ac485baa6360e9b90b07549ca83bb032849a1350c04e7"
  }
 },
 "nbformat": 4,
 "nbformat_minor": 2
}