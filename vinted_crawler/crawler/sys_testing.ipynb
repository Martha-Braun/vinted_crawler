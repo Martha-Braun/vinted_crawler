{
 "cells": [
  {
   "cell_type": "code",
   "execution_count": 4,
   "source": [
    "import sys\n",
    "\n",
    "sys.path.append('/Users/marthab/vinted_crawler/vinted_crawler')\n",
    "\n",
    "import pandas as pd\n",
    "import numpy as np\n",
    "import logging\n",
    "\n",
    "import time\n",
    "import datetime\n",
    "from tqdm import tqdm\n",
    "\n",
    "from selenium import webdriver\n",
    "from selenium.webdriver.chrome.options import Options\n",
    "from selenium.webdriver import ActionChains\n",
    "from selenium.common.exceptions import NoSuchElementException\n",
    "\n",
    "import gspread\n",
    "from oauth2client.service_account import ServiceAccountCredentials\n",
    "import gspread_dataframe as gd\n",
    "\n",
    "from confidential.conf_constants import *\n",
    "from constants.website_constants import *"
   ],
   "outputs": [],
   "metadata": {}
  },
  {
   "cell_type": "code",
   "execution_count": 2,
   "source": [
    "from confidential.conf_constants import *\n",
    "from constants.website_constants import *"
   ],
   "outputs": [],
   "metadata": {}
  },
  {
   "cell_type": "code",
   "execution_count": 6,
   "source": [
    "scope = [SPSH_URL, GAPI_URL]\n",
    "credentials = ServiceAccountCredentials.from_json_keyfile_name(GKEY_PATH, scope)\n",
    "gc = gspread.authorize(credentials)\n",
    "spreadsheet_key = SPSH_KEY\n",
    "spreadsheet = gc.open_by_key(spreadsheet_key)\n",
    "wks_name = DATE_SHEET\n",
    "\n",
    "ws = gc.open_by_key(spreadsheet_key).worksheet(wks_name)"
   ],
   "outputs": [],
   "metadata": {}
  },
  {
   "cell_type": "code",
   "execution_count": 14,
   "source": [
    "ws = spreadsheet.add_worksheet(title=\"test\", rows=\"100\", cols=\"20\")\n"
   ],
   "outputs": [],
   "metadata": {}
  },
  {
   "cell_type": "code",
   "execution_count": 20,
   "source": [
    "ws.update(COLUMN_NAME_CELLS, [COLUMN_NAMES])\n",
    "ws.format(\n",
    "        COLUMN_NAME_CELLS,\n",
    "        {\n",
    "            \"textFormat\": {\"bold\": True},\n",
    "            \"backgroundColor\": {\"red\": 80, \"green\": 80, \"blue\": 80},\n",
    "        })"
   ],
   "outputs": [
    {
     "output_type": "execute_result",
     "data": {
      "text/plain": [
       "{'spreadsheetId': '1mE7LuHuDC7Ki0rnFEfx6-DZmLZ4tvu1vBy4-6QXT2kI',\n",
       " 'replies': [{}]}"
      ]
     },
     "metadata": {},
     "execution_count": 20
    }
   ],
   "metadata": {}
  },
  {
   "cell_type": "code",
   "execution_count": 8,
   "source": [
    "today = datetime.datetime.now().date()"
   ],
   "outputs": [],
   "metadata": {}
  },
  {
   "cell_type": "code",
   "execution_count": 10,
   "source": [
    "ws_date = gc.open_by_key(spreadsheet_key).worksheet(DATE_SHEET)\n",
    "ws_date.update(DATE_CELL, str(today))"
   ],
   "outputs": [
    {
     "output_type": "execute_result",
     "data": {
      "text/plain": [
       "{'spreadsheetId': '1mE7LuHuDC7Ki0rnFEfx6-DZmLZ4tvu1vBy4-6QXT2kI',\n",
       " 'updatedRange': \"'READ ME'!G3\",\n",
       " 'updatedRows': 1,\n",
       " 'updatedColumns': 1,\n",
       " 'updatedCells': 1}"
      ]
     },
     "metadata": {},
     "execution_count": 10
    }
   ],
   "metadata": {}
  },
  {
   "cell_type": "code",
   "execution_count": null,
   "source": [],
   "outputs": [],
   "metadata": {}
  }
 ],
 "metadata": {
  "orig_nbformat": 4,
  "language_info": {
   "name": "python",
   "version": "3.7.3",
   "mimetype": "text/x-python",
   "codemirror_mode": {
    "name": "ipython",
    "version": 3
   },
   "pygments_lexer": "ipython3",
   "nbconvert_exporter": "python",
   "file_extension": ".py"
  },
  "kernelspec": {
   "name": "python3",
   "display_name": "Python 3.7.3 64-bit ('vinted-crawler-package-zvLrHxc3-py3.7': poetry)"
  },
  "interpreter": {
   "hash": "8eb28134678f2beb3d6ac485baa6360e9b90b07549ca83bb032849a1350c04e7"
  }
 },
 "nbformat": 4,
 "nbformat_minor": 2
}