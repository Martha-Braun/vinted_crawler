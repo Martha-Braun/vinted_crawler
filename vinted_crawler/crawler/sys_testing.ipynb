{
 "cells": [
  {
   "cell_type": "code",
   "execution_count": 1,
   "metadata": {},
   "outputs": [],
   "source": [
    "import sys\n",
    "\n",
    "sys.path.append('/Users/marthab/vinted_crawler/vinted_crawler')\n",
    "\n",
    "import pandas as pd\n",
    "import numpy as np\n",
    "import logging\n",
    "\n",
    "import time\n",
    "import datetime\n",
    "from tqdm import tqdm\n",
    "\n",
    "from selenium import webdriver\n",
    "from selenium.webdriver.chrome.options import Options\n",
    "from selenium.webdriver import ActionChains\n",
    "from selenium.common.exceptions import NoSuchElementException\n",
    "\n",
    "import gspread\n",
    "from oauth2client.service_account import ServiceAccountCredentials\n",
    "import gspread_dataframe as gd\n",
    "\n",
    "from confidential.conf_constants import *\n",
    "from constants.website_constants import *"
   ]
  },
  {
   "cell_type": "code",
   "execution_count": 2,
   "metadata": {},
   "outputs": [],
   "source": [
    "from confidential.conf_constants import *\n",
    "from constants.website_constants import *"
   ]
  },
  {
   "cell_type": "code",
   "execution_count": 2,
   "metadata": {},
   "outputs": [],
   "source": [
    "scope = [SPSH_URL, GAPI_URL]\n",
    "credentials = ServiceAccountCredentials.from_json_keyfile_name(GKEY_PATH, scope)\n",
    "gc = gspread.authorize(credentials)\n",
    "spreadsheet_key = SPSH_KEY\n",
    "spreadsheet = gc.open_by_key(spreadsheet_key)\n",
    "wks_name = DATE_SHEET\n",
    "\n",
    "ws = gc.open_by_key(spreadsheet_key).worksheet(wks_name)"
   ]
  },
  {
   "cell_type": "code",
   "execution_count": 14,
   "metadata": {},
   "outputs": [],
   "source": [
    "ws = spreadsheet.add_worksheet(title=\"test\", rows=\"100\", cols=\"20\")\n"
   ]
  },
  {
   "cell_type": "code",
   "execution_count": 20,
   "metadata": {},
   "outputs": [
    {
     "data": {
      "text/plain": [
       "{'spreadsheetId': '1mE7LuHuDC7Ki0rnFEfx6-DZmLZ4tvu1vBy4-6QXT2kI',\n",
       " 'replies': [{}]}"
      ]
     },
     "execution_count": 20,
     "metadata": {},
     "output_type": "execute_result"
    }
   ],
   "source": [
    "ws.update(COLUMN_NAME_CELLS, [COLUMN_NAMES])\n",
    "ws.format(\n",
    "        COLUMN_NAME_CELLS,\n",
    "        {\n",
    "            \"textFormat\": {\"bold\": True},\n",
    "            \"backgroundColor\": {\"red\": 80, \"green\": 80, \"blue\": 80},\n",
    "        })"
   ]
  },
  {
   "cell_type": "code",
   "execution_count": 8,
   "metadata": {},
   "outputs": [],
   "source": [
    "today = datetime.datetime.now().date()"
   ]
  },
  {
   "cell_type": "code",
   "execution_count": 10,
   "metadata": {},
   "outputs": [
    {
     "data": {
      "text/plain": [
       "{'spreadsheetId': '1mE7LuHuDC7Ki0rnFEfx6-DZmLZ4tvu1vBy4-6QXT2kI',\n",
       " 'updatedRange': \"'READ ME'!G3\",\n",
       " 'updatedRows': 1,\n",
       " 'updatedColumns': 1,\n",
       " 'updatedCells': 1}"
      ]
     },
     "execution_count": 10,
     "metadata": {},
     "output_type": "execute_result"
    }
   ],
   "source": [
    "ws_date = gc.open_by_key(spreadsheet_key).worksheet(DATE_SHEET)\n",
    "ws_date.update(DATE_CELL, str(today))"
   ]
  },
  {
   "cell_type": "code",
   "execution_count": 13,
   "metadata": {},
   "outputs": [],
   "source": [
    "scope = [SPSH_URL, GAPI_URL]\n",
    "credentials = ServiceAccountCredentials.from_json_keyfile_name(GKEY_PATH, scope)\n",
    "gc = gspread.authorize(credentials)\n",
    "spreadsheet_key = SPSH_KEY\n",
    "spreadsheet = gc.open_by_key(spreadsheet_key)\n",
    "wks_name = \"test\"\n",
    "\n",
    "ws = gc.open_by_key(spreadsheet_key).worksheet(wks_name)\n",
    "dataframe = pd.DataFrame(ws.get_all_records())\n",
    "\n"
   ]
  },
  {
   "cell_type": "code",
   "execution_count": 14,
   "metadata": {},
   "outputs": [
    {
     "data": {
      "text/html": [
       "<div>\n",
       "<style scoped>\n",
       "    .dataframe tbody tr th:only-of-type {\n",
       "        vertical-align: middle;\n",
       "    }\n",
       "\n",
       "    .dataframe tbody tr th {\n",
       "        vertical-align: top;\n",
       "    }\n",
       "\n",
       "    .dataframe thead th {\n",
       "        text-align: right;\n",
       "    }\n",
       "</style>\n",
       "<table border=\"1\" class=\"dataframe\">\n",
       "  <thead>\n",
       "    <tr style=\"text-align: right;\">\n",
       "      <th></th>\n",
       "      <th>Upload_date</th>\n",
       "      <th>Product_Id</th>\n",
       "      <th>Category</th>\n",
       "      <th>Sub_Category</th>\n",
       "      <th>Brand</th>\n",
       "      <th>Price</th>\n",
       "      <th>Size</th>\n",
       "      <th>Condition</th>\n",
       "      <th>Colour</th>\n",
       "      <th>URL</th>\n",
       "    </tr>\n",
       "  </thead>\n",
       "  <tbody>\n",
       "    <tr>\n",
       "      <th>0</th>\n",
       "      <td>2021-09-30</td>\n",
       "      <td>1343237817-emilio-pucci</td>\n",
       "      <td>jacken</td>\n",
       "      <td>bomberjacken</td>\n",
       "      <td>EMILIO PUCCI</td>\n",
       "      <td>300,00€</td>\n",
       "      <td>XS / 34 / 6</td>\n",
       "      <td>NEU, MIT ETIKETT</td>\n",
       "      <td>BUNT</td>\n",
       "      <td>https://www.vinted.de/damen/kleidung/mantel-an...</td>\n",
       "    </tr>\n",
       "    <tr>\n",
       "      <th>1</th>\n",
       "      <td>2021-09-30</td>\n",
       "      <td>1342894053-hellblau-weiss-gestreifte-baumwollb...</td>\n",
       "      <td>tops-and-t-shirts</td>\n",
       "      <td>langarmelige-blusen</td>\n",
       "      <td>EMILIO PUCCI</td>\n",
       "      <td>5,00€</td>\n",
       "      <td>XL / 42 / 14</td>\n",
       "      <td>GUT</td>\n",
       "      <td>WEISS, HELLBLAU</td>\n",
       "      <td>https://www.vinted.de/damen/kleidung/tops-and-...</td>\n",
       "    </tr>\n",
       "    <tr>\n",
       "      <th>2</th>\n",
       "      <td>2021-09-30</td>\n",
       "      <td>1342583176-emilio-pucci-seidenkravattenschal</td>\n",
       "      <td>tucher-and-schals</td>\n",
       "      <td>schals</td>\n",
       "      <td>EMILIO PUCCI</td>\n",
       "      <td>59,00€</td>\n",
       "      <td>-</td>\n",
       "      <td>SEHR GUT</td>\n",
       "      <td>SCHWARZ, BUNT</td>\n",
       "      <td>https://www.vinted.de/damen/accessoires/tucher...</td>\n",
       "    </tr>\n",
       "    <tr>\n",
       "      <th>3</th>\n",
       "      <td>2021-09-08</td>\n",
       "      <td>1301391866-tasche-jacquemus-le-chiquito</td>\n",
       "      <td>taschen</td>\n",
       "      <td>handtaschen</td>\n",
       "      <td>JACQUEMUS</td>\n",
       "      <td>330,00€</td>\n",
       "      <td>-</td>\n",
       "      <td>NEU, MIT ETIKETT</td>\n",
       "      <td>SCHWARZ</td>\n",
       "      <td>https://www.vinted.de/damen/taschen/handtasche...</td>\n",
       "    </tr>\n",
       "  </tbody>\n",
       "</table>\n",
       "</div>"
      ],
      "text/plain": [
       "  Upload_date                                         Product_Id  \\\n",
       "0  2021-09-30                            1343237817-emilio-pucci   \n",
       "1  2021-09-30  1342894053-hellblau-weiss-gestreifte-baumwollb...   \n",
       "2  2021-09-30       1342583176-emilio-pucci-seidenkravattenschal   \n",
       "3  2021-09-08            1301391866-tasche-jacquemus-le-chiquito   \n",
       "\n",
       "            Category         Sub_Category         Brand    Price  \\\n",
       "0             jacken         bomberjacken  EMILIO PUCCI  300,00€   \n",
       "1  tops-and-t-shirts  langarmelige-blusen  EMILIO PUCCI    5,00€   \n",
       "2  tucher-and-schals               schals  EMILIO PUCCI   59,00€   \n",
       "3            taschen          handtaschen     JACQUEMUS  330,00€   \n",
       "\n",
       "           Size         Condition           Colour  \\\n",
       "0   XS / 34 / 6  NEU, MIT ETIKETT             BUNT   \n",
       "1  XL / 42 / 14               GUT  WEISS, HELLBLAU   \n",
       "2             -          SEHR GUT    SCHWARZ, BUNT   \n",
       "3             -  NEU, MIT ETIKETT          SCHWARZ   \n",
       "\n",
       "                                                 URL  \n",
       "0  https://www.vinted.de/damen/kleidung/mantel-an...  \n",
       "1  https://www.vinted.de/damen/kleidung/tops-and-...  \n",
       "2  https://www.vinted.de/damen/accessoires/tucher...  \n",
       "3  https://www.vinted.de/damen/taschen/handtasche...  "
      ]
     },
     "execution_count": 14,
     "metadata": {},
     "output_type": "execute_result"
    }
   ],
   "source": [
    "dataframe"
   ]
  },
  {
   "cell_type": "code",
   "execution_count": 15,
   "metadata": {},
   "outputs": [],
   "source": [
    "collected_products = dataframe['URL'].tolist()"
   ]
  },
  {
   "cell_type": "code",
   "execution_count": 24,
   "metadata": {},
   "outputs": [
    {
     "data": {
      "text/plain": [
       "['https://www.vinted.de/damen/kleidung/mantel-and-jacken/jacken/bomberjacken/1343237817-emilio-pucci',\n",
       " 'https://www.vinted.de/damen/kleidung/tops-and-t-shirts/langarmelige-blusen/1342894053-hellblau-weiss-gestreifte-baumwollbluse',\n",
       " 'https://www.vinted.de/damen/accessoires/tucher-and-schals/schals/1342583176-emilio-pucci-seidenkravattenschal',\n",
       " 'https://www.vinted.de/damen/taschen/handtaschen/1301391866-tasche-jacquemus-le-chiquito']"
      ]
     },
     "execution_count": 24,
     "metadata": {},
     "output_type": "execute_result"
    }
   ],
   "source": [
    "collected_products"
   ]
  },
  {
   "cell_type": "code",
   "execution_count": 16,
   "metadata": {},
   "outputs": [
    {
     "name": "stderr",
     "output_type": "stream",
     "text": [
      "/Users/marthab/Library/Caches/pypoetry/virtualenvs/vinted-crawler-package-zvLrHxc3-py3.7/lib/python3.7/site-packages/ipykernel_launcher.py:11: DeprecationWarning: use options instead of chrome_options\n",
      "  # This is added back by InteractiveShellApp.init_path()\n"
     ]
    }
   ],
   "source": [
    "# setting up chrome options\n",
    "chrome_options = Options()\n",
    "# browsing in incognito mode\n",
    "chrome_options.add_argument(\"--incognito\")\n",
    "# setting window size to 1920x1080\n",
    "chrome_options.add_argument(\"--window-size=1920x1080\")\n",
    "\n",
    "# create instance\n",
    "driver = webdriver.Chrome(\n",
    "    chrome_options=chrome_options,\n",
    "    executable_path=\"/Users/marthab/Desktop/Python_Labs/vinted_crawler/chromedriver\",\n",
    ")"
   ]
  },
  {
   "cell_type": "code",
   "execution_count": 34,
   "metadata": {},
   "outputs": [],
   "source": [
    "for url in collected_products:\n",
    "    try:\n",
    "        driver.get(url)\n",
    "        filt = dataframe['URL']==url\n",
    "        dataframe.loc[filt, 'Availability'] = \"still online\"\n",
    "    except:\n",
    "        dataframe.loc[filt, 'Availability'] = \"offline since \"\n"
   ]
  },
  {
   "cell_type": "code",
   "execution_count": 45,
   "metadata": {},
   "outputs": [],
   "source": [
    "today = datetime.datetime.now().date()\n",
    "for url in collected_products:\n",
    "    filt = dataframe['URL']==url\n",
    "    driver.get(url)\n",
    "    if driver.current_url  == url:\n",
    "        dataframe.loc[filt, 'Availability'] = f\"still online on {today}\"\n",
    "        dataframe.loc[filt, 'Offline since'] = \"-\"\n",
    "    else:\n",
    "        dataframe.loc[filt, 'Availability'] = f\"sold\"\n",
    "        dataframe.loc[filt, 'Offline since'] = today\n"
   ]
  },
  {
   "cell_type": "code",
   "execution_count": 46,
   "metadata": {},
   "outputs": [
    {
     "data": {
      "text/html": [
       "<div>\n",
       "<style scoped>\n",
       "    .dataframe tbody tr th:only-of-type {\n",
       "        vertical-align: middle;\n",
       "    }\n",
       "\n",
       "    .dataframe tbody tr th {\n",
       "        vertical-align: top;\n",
       "    }\n",
       "\n",
       "    .dataframe thead th {\n",
       "        text-align: right;\n",
       "    }\n",
       "</style>\n",
       "<table border=\"1\" class=\"dataframe\">\n",
       "  <thead>\n",
       "    <tr style=\"text-align: right;\">\n",
       "      <th></th>\n",
       "      <th>Upload_date</th>\n",
       "      <th>Product_Id</th>\n",
       "      <th>Category</th>\n",
       "      <th>Sub_Category</th>\n",
       "      <th>Brand</th>\n",
       "      <th>Price</th>\n",
       "      <th>Size</th>\n",
       "      <th>Condition</th>\n",
       "      <th>Colour</th>\n",
       "      <th>URL</th>\n",
       "      <th>Availability</th>\n",
       "      <th>Offline since</th>\n",
       "    </tr>\n",
       "  </thead>\n",
       "  <tbody>\n",
       "    <tr>\n",
       "      <th>0</th>\n",
       "      <td>2021-09-30</td>\n",
       "      <td>1343237817-emilio-pucci</td>\n",
       "      <td>jacken</td>\n",
       "      <td>bomberjacken</td>\n",
       "      <td>EMILIO PUCCI</td>\n",
       "      <td>300,00€</td>\n",
       "      <td>XS / 34 / 6</td>\n",
       "      <td>NEU, MIT ETIKETT</td>\n",
       "      <td>BUNT</td>\n",
       "      <td>https://www.vinted.de/damen/kleidung/mantel-an...</td>\n",
       "      <td>still online on 2021-10-01</td>\n",
       "      <td>-</td>\n",
       "    </tr>\n",
       "    <tr>\n",
       "      <th>1</th>\n",
       "      <td>2021-09-30</td>\n",
       "      <td>1342894053-hellblau-weiss-gestreifte-baumwollb...</td>\n",
       "      <td>tops-and-t-shirts</td>\n",
       "      <td>langarmelige-blusen</td>\n",
       "      <td>EMILIO PUCCI</td>\n",
       "      <td>5,00€</td>\n",
       "      <td>XL / 42 / 14</td>\n",
       "      <td>GUT</td>\n",
       "      <td>WEISS, HELLBLAU</td>\n",
       "      <td>https://www.vinted.de/damen/kleidung/tops-and-...</td>\n",
       "      <td>still online on 2021-10-01</td>\n",
       "      <td>-</td>\n",
       "    </tr>\n",
       "    <tr>\n",
       "      <th>2</th>\n",
       "      <td>2021-09-30</td>\n",
       "      <td>1342583176-emilio-pucci-seidenkravattenschal</td>\n",
       "      <td>tucher-and-schals</td>\n",
       "      <td>schals</td>\n",
       "      <td>EMILIO PUCCI</td>\n",
       "      <td>59,00€</td>\n",
       "      <td>-</td>\n",
       "      <td>SEHR GUT</td>\n",
       "      <td>SCHWARZ, BUNT</td>\n",
       "      <td>https://www.vinted.de/damen/accessoires/tucher...</td>\n",
       "      <td>still online on 2021-10-01</td>\n",
       "      <td>-</td>\n",
       "    </tr>\n",
       "    <tr>\n",
       "      <th>3</th>\n",
       "      <td>2021-09-08</td>\n",
       "      <td>1301391866-tasche-jacquemus-le-chiquito</td>\n",
       "      <td>taschen</td>\n",
       "      <td>handtaschen</td>\n",
       "      <td>JACQUEMUS</td>\n",
       "      <td>330,00€</td>\n",
       "      <td>-</td>\n",
       "      <td>NEU, MIT ETIKETT</td>\n",
       "      <td>SCHWARZ</td>\n",
       "      <td>https://www.vinted.de/damen/taschen/handtasche...</td>\n",
       "      <td>sold</td>\n",
       "      <td>2021-10-01</td>\n",
       "    </tr>\n",
       "  </tbody>\n",
       "</table>\n",
       "</div>"
      ],
      "text/plain": [
       "  Upload_date                                         Product_Id  \\\n",
       "0  2021-09-30                            1343237817-emilio-pucci   \n",
       "1  2021-09-30  1342894053-hellblau-weiss-gestreifte-baumwollb...   \n",
       "2  2021-09-30       1342583176-emilio-pucci-seidenkravattenschal   \n",
       "3  2021-09-08            1301391866-tasche-jacquemus-le-chiquito   \n",
       "\n",
       "            Category         Sub_Category         Brand    Price  \\\n",
       "0             jacken         bomberjacken  EMILIO PUCCI  300,00€   \n",
       "1  tops-and-t-shirts  langarmelige-blusen  EMILIO PUCCI    5,00€   \n",
       "2  tucher-and-schals               schals  EMILIO PUCCI   59,00€   \n",
       "3            taschen          handtaschen     JACQUEMUS  330,00€   \n",
       "\n",
       "           Size         Condition           Colour  \\\n",
       "0   XS / 34 / 6  NEU, MIT ETIKETT             BUNT   \n",
       "1  XL / 42 / 14               GUT  WEISS, HELLBLAU   \n",
       "2             -          SEHR GUT    SCHWARZ, BUNT   \n",
       "3             -  NEU, MIT ETIKETT          SCHWARZ   \n",
       "\n",
       "                                                 URL  \\\n",
       "0  https://www.vinted.de/damen/kleidung/mantel-an...   \n",
       "1  https://www.vinted.de/damen/kleidung/tops-and-...   \n",
       "2  https://www.vinted.de/damen/accessoires/tucher...   \n",
       "3  https://www.vinted.de/damen/taschen/handtasche...   \n",
       "\n",
       "                 Availability Offline since  \n",
       "0  still online on 2021-10-01             -  \n",
       "1  still online on 2021-10-01             -  \n",
       "2  still online on 2021-10-01             -  \n",
       "3                        sold    2021-10-01  "
      ]
     },
     "execution_count": 46,
     "metadata": {},
     "output_type": "execute_result"
    }
   ],
   "source": [
    "dataframe"
   ]
  },
  {
   "cell_type": "code",
   "execution_count": 33,
   "metadata": {},
   "outputs": [
    {
     "data": {
      "text/plain": [
       "0    test\n",
       "Name: Availability, dtype: object"
      ]
     },
     "execution_count": 33,
     "metadata": {},
     "output_type": "execute_result"
    }
   ],
   "source": [
    "# upload new columns to google sheet "
   ]
  }
 ],
 "metadata": {
  "interpreter": {
   "hash": "40c582697b3e6b3eb392d3e5063636f562be7454d47ced040acebe6cf6a36df5"
  },
  "kernelspec": {
   "display_name": "Python 3.7.3 64-bit ('vinted-crawler-package-zvLrHxc3-py3.7': poetry)",
   "name": "python3"
  },
  "language_info": {
   "codemirror_mode": {
    "name": "ipython",
    "version": 3
   },
   "file_extension": ".py",
   "mimetype": "text/x-python",
   "name": "python",
   "nbconvert_exporter": "python",
   "pygments_lexer": "ipython3",
   "version": "3.7.3"
  },
  "orig_nbformat": 4
 },
 "nbformat": 4,
 "nbformat_minor": 2
}
