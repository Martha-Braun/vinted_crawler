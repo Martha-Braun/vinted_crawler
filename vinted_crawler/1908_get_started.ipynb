{
 "metadata": {
  "language_info": {
   "codemirror_mode": {
    "name": "ipython",
    "version": 3
   },
   "file_extension": ".py",
   "mimetype": "text/x-python",
   "name": "python",
   "nbconvert_exporter": "python",
   "pygments_lexer": "ipython3",
   "version": "3.8.3"
  },
  "orig_nbformat": 2,
  "kernelspec": {
   "name": "python3",
   "display_name": "Python 3.8.3 64-bit ('base': conda)",
   "metadata": {
    "interpreter": {
     "hash": "00b4c845b087d86b52d5b1a1e8e94d4a7589d88484d95d4d96d2a8a77f657814"
    }
   }
  }
 },
 "nbformat": 4,
 "nbformat_minor": 2,
 "cells": [
  {
   "cell_type": "code",
   "execution_count": 216,
   "metadata": {},
   "outputs": [],
   "source": [
    "# import libraries\n",
    "import pandas as pd\n",
    "import numpy as np\n",
    "from selenium import webdriver\n",
    "from selenium.webdriver.chrome.options import Options\n",
    "from selenium.webdriver import ActionChains\n",
    "from selenium.common.exceptions import NoSuchElementException\n",
    "import time\n",
    "from tqdm import tqdm"
   ]
  },
  {
   "cell_type": "code",
   "execution_count": 217,
   "metadata": {},
   "outputs": [],
   "source": [
    "# setting up chrome options\n",
    "chrome_options = Options()\n",
    "# browsing in incognito mode\n",
    "chrome_options.add_argument(\"--incognito\")\n",
    "# setting window size to 1920x1080\n",
    "chrome_options.add_argument(\"--window-size=1920x1080\")"
   ]
  },
  {
   "cell_type": "code",
   "execution_count": 218,
   "metadata": {},
   "outputs": [
    {
     "output_type": "stream",
     "name": "stderr",
     "text": [
      "<ipython-input-218-2d554e9c4169>:2: DeprecationWarning: use options instead of chrome_options\n  driver = webdriver.Chrome(chrome_options=chrome_options, executable_path=\n"
     ]
    }
   ],
   "source": [
    "# create instance\n",
    "driver = webdriver.Chrome(chrome_options=chrome_options, executable_path=\n",
    "\"/Users/marthab/Desktop/Python_Labs/vinted_crawler/chromedriver\")"
   ]
  },
  {
   "cell_type": "code",
   "execution_count": 219,
   "metadata": {},
   "outputs": [],
   "source": [
    "# set url to Women > Jacquemus\n",
    "url = \"https://www.vinted.de/vetements?brand_id[]=168278&catalog[]=1904\"\n",
    "driver.get(url)\n",
    "\n",
    "# wait 2 sec for page to fully load\n",
    "time.sleep(2)"
   ]
  },
  {
   "cell_type": "code",
   "execution_count": 220,
   "metadata": {},
   "outputs": [],
   "source": [
    "# don't accept cookies\n",
    "try:\n",
    "# privatsphäre-einstellung alle ablehnen\n",
    "    reject_all_button = driver.find_element_by_css_selector(\"#onetrust-reject-all-handler\")\n",
    "    ActionChains(driver).click(reject_all_button).perform()\n",
    "#NoSuchElementException thrown if not present\n",
    "except NoSuchElementException:\n",
    "    print(\"Not asked for privacy settings\")\n",
    "\n",
    "# choose country Germany\n",
    "try:\n",
    "    germany_button = driver.find_element_by_xpath(\"/html/body/div[13]/div/div/div/div[3]/div[3]/div[2]/div/h2/span\")\n",
    "    ActionChains(driver).click(germany_button).perform()\n",
    "except NoSuchElementException:\n",
    "    print(\"Not asked for country\")\n",
    "\n",
    "# wait 2 sec for page to fully load\n",
    "time.sleep(2)"
   ]
  },
  {
   "cell_type": "code",
   "execution_count": 221,
   "metadata": {},
   "outputs": [],
   "source": [
    "# make sure you are on the right page\n",
    "if 'brand_id[]=168278&catalog[]=1904' not in driver.current_url:\n",
    "    url = \"https://www.vinted.de/vetements?brand_id[]=168278&catalog[]=1904\"\n",
    "    driver.get(url)\n",
    "    time.sleep(2)"
   ]
  },
  {
   "cell_type": "code",
   "execution_count": 222,
   "metadata": {},
   "outputs": [],
   "source": [
    "# get url of all products on first page \n",
    "products = driver.find_elements_by_css_selector(\"a.ItemBox_overlay__1kNfX\")\n",
    "product_urls = [prod.get_attribute(\"href\") for prod in products]"
   ]
  },
  {
   "cell_type": "code",
   "execution_count": 224,
   "metadata": {},
   "outputs": [
    {
     "output_type": "stream",
     "name": "stderr",
     "text": [
      "100%|██████████| 22/22 [00:40<00:00,  1.85s/it]\n"
     ]
    }
   ],
   "source": [
    "#scraping individual product details\n",
    "alldetails=[]\n",
    "\n",
    "\n",
    "for product_url in tqdm(product_urls):\n",
    "    driver.get(product_url)\n",
    "    #time.sleep(3)\n",
    "\n",
    "    # get product id from url\n",
    "    product_id = product_url.split('/')[-1]\n",
    "\n",
    "    # get product subcatgory from url\n",
    "    product_subcat = product_url.split('/')[-2]\n",
    "\n",
    "    # get product catgory from url\n",
    "    product_cat = product_url.split('/')[-3]\n",
    "\n",
    "    # get brand\n",
    "    brand = driver.find_element_by_xpath(\"//a[@itemprop='url']/span[@itemprop='name']\").text\n",
    "\n",
    "    # get price\n",
    "    price = driver.find_element_by_xpath('/html/body/div[5]/div/section/div/div[2]/main/aside/div[1]/div[1]/div[1]/div[1]/span/div').text\n",
    "\n",
    "    # get size \n",
    "    # TO-DO: fix \n",
    "    size = driver.find_element_by_xpath('/html/body/div[5]/div/section/div/div[2]/main/aside/div[1]/div[1]/div[2]/div[2]/div[2]').text\n",
    "\n",
    "    # get item condition\n",
    "    condition = driver.find_element_by_xpath(\"//div[@itemprop='itemCondition']\").text\n",
    "\n",
    "    # get colour\n",
    "    colour = driver.find_element_by_xpath(\"//div[@itemprop='color']\").text\n",
    "\n",
    "        \n",
    "    infos ={\n",
    "        'Product_Id':product_id,\n",
    "        'Category':product_cat,\n",
    "        'Sub_Category':product_subcat,\n",
    "        'Brand':brand,\n",
    "        'Price':price,\n",
    "        'Size':size,\n",
    "        'Condition':condition,\n",
    "        'URL':product_url}\n",
    "\n",
    "    alldetails.append(infos)\n",
    "\n",
    "    "
   ]
  },
  {
   "cell_type": "code",
   "execution_count": 151,
   "metadata": {},
   "outputs": [
    {
     "output_type": "execute_result",
     "data": {
      "text/plain": [
       "                                           Product_Id               Category  \\\n",
       "0               1264815455-jacquemus-la-riviera-kleid                kleider   \n",
       "1        1255929602-jacquemus-la-robe-bahia-minidress                kleider   \n",
       "2   1236664083-jacquemus-la-robe-saudade-navy-klei...            fur-anlasse   \n",
       "3                   1264854208-jaquemus-le-gandjo-bag                taschen   \n",
       "4                 1264751001-jacquemus-le-bambino-bag                taschen   \n",
       "5          1264721676-jacquemus-le-chiquito-moyen-bag                taschen   \n",
       "6                     1264609791-jacquemus-handtasche                taschen   \n",
       "7                       1264055260-jacquemus-le-carre  taschen-and-rucksacke   \n",
       "8                 1263716785-jacquemus-ciquito-tasche                taschen   \n",
       "9                         1263680243-jacquemus-tasche                taschen   \n",
       "10      1263551154-jacquemus-le-body-yauco-schwarz-34      tops-and-t-shirts   \n",
       "11      1263349368-jacquemus-le-grand-bambino-schwarz                taschen   \n",
       "12       1263300548-jacquemus-le-chiquito-mini-tasche                taschen   \n",
       "13                   1262813023-neue-jacquemus-tasche                taschen   \n",
       "14                  1261940293-jacquemus-le-gadjo-bag                taschen   \n",
       "15                         1259386943-jacquemus-kleid                kleider   \n",
       "16  1261807598-jacquemus-minibag-tote-le-petite-sm...                taschen   \n",
       "17                         1240368148-jacquemus-white                taschen   \n",
       "18  1260853158-jacquemus-oberteil-bluse-hemd-aussc...      tops-and-t-shirts   \n",
       "19  1260825132-jacquemus-kleid-maxi-midi-fransen-n...                kleider   \n",
       "20     1253741808-new-jacquemus-palazzo-pants-arcello     hosen-and-leggings   \n",
       "21                        1260271462-tasche-jacquemus                taschen   \n",
       "\n",
       "             Sub_Category      Brand     Price              Size  \\\n",
       "0             minikleider  JACQUEMUS  160,00 €       XS / 34 / 6   \n",
       "1             minikleider  JACQUEMUS  319,00 €        S / 36 / 8   \n",
       "2      party-and-cocktail  JACQUEMUS  350,00 €        S / 36 / 8   \n",
       "3             handtaschen  JACQUEMUS  210,00 €  NEU, MIT ETIKETT   \n",
       "4             handtaschen  JACQUEMUS  380,00 €  NEU, MIT ETIKETT   \n",
       "5             handtaschen  JACQUEMUS  390,00 €  NEU, MIT ETIKETT   \n",
       "6             handtaschen  JACQUEMUS  175,00 €  NEU, MIT ETIKETT   \n",
       "7          umhangetaschen  JACQUEMUS  500,00 €          SEHR GUT   \n",
       "8             handtaschen  JACQUEMUS  330,00 €  NEU, MIT ETIKETT   \n",
       "9             handtaschen  JACQUEMUS  250,00 €               NEU   \n",
       "10                  bodys  JACQUEMUS  205,00 €       XS / 34 / 6   \n",
       "11            handtaschen  JACQUEMUS  518,00 €  NEU, MIT ETIKETT   \n",
       "12            handtaschen  JACQUEMUS  650,00 €  NEU, MIT ETIKETT   \n",
       "13            handtaschen  JACQUEMUS  390,00 €  NEU, MIT ETIKETT   \n",
       "14         umhangetaschen  JACQUEMUS  180,00 €  NEU, MIT ETIKETT   \n",
       "15            maxikleider  JACQUEMUS  250,00 €       XS / 34 / 6   \n",
       "16         umhangetaschen  JACQUEMUS  135,00 €  NEU, MIT ETIKETT   \n",
       "17               clutches  JACQUEMUS  250,00 €  NEU, MIT ETIKETT   \n",
       "18                 blusen  JACQUEMUS  380,00 €        S / 36 / 8   \n",
       "19            maxikleider  JACQUEMUS  680,00 €        S / 36 / 8   \n",
       "20  hosen-mit-weitem-bein  JACQUEMUS  180,00 €       XS / 34 / 6   \n",
       "21            handtaschen  JACQUEMUS  260,00 €               NEU   \n",
       "\n",
       "           Condition                                                URL  \n",
       "0                GUT  https://www.vinted.de/damen/kleidung/kleider/m...  \n",
       "1   NEU, MIT ETIKETT  https://www.vinted.de/damen/kleidung/kleider/m...  \n",
       "2   NEU, MIT ETIKETT  https://www.vinted.de/damen/kleidung/kleider/f...  \n",
       "3   NEU, MIT ETIKETT  https://www.vinted.de/damen/taschen/handtasche...  \n",
       "4   NEU, MIT ETIKETT  https://www.vinted.de/damen/taschen/handtasche...  \n",
       "5   NEU, MIT ETIKETT  https://www.vinted.de/damen/taschen/handtasche...  \n",
       "6   NEU, MIT ETIKETT  https://www.vinted.de/damen/taschen/handtasche...  \n",
       "7           SEHR GUT  https://www.vinted.de/herren/accessoires/tasch...  \n",
       "8   NEU, MIT ETIKETT  https://www.vinted.de/damen/taschen/handtasche...  \n",
       "9                NEU  https://www.vinted.de/damen/taschen/handtasche...  \n",
       "10  NEU, MIT ETIKETT  https://www.vinted.de/damen/kleidung/tops-and-...  \n",
       "11  NEU, MIT ETIKETT  https://www.vinted.de/damen/taschen/handtasche...  \n",
       "12  NEU, MIT ETIKETT  https://www.vinted.de/damen/taschen/handtasche...  \n",
       "13  NEU, MIT ETIKETT  https://www.vinted.de/damen/taschen/handtasche...  \n",
       "14  NEU, MIT ETIKETT  https://www.vinted.de/damen/taschen/umhangetas...  \n",
       "15          SEHR GUT  https://www.vinted.de/damen/kleidung/kleider/m...  \n",
       "16  NEU, MIT ETIKETT  https://www.vinted.de/damen/taschen/umhangetas...  \n",
       "17  NEU, MIT ETIKETT  https://www.vinted.de/damen/taschen/clutches/1...  \n",
       "18               NEU  https://www.vinted.de/damen/kleidung/tops-and-...  \n",
       "19               NEU  https://www.vinted.de/damen/kleidung/kleider/m...  \n",
       "20  NEU, MIT ETIKETT  https://www.vinted.de/damen/kleidung/hosen-and...  \n",
       "21               NEU  https://www.vinted.de/damen/taschen/handtasche...  "
      ],
      "text/html": "<div>\n<style scoped>\n    .dataframe tbody tr th:only-of-type {\n        vertical-align: middle;\n    }\n\n    .dataframe tbody tr th {\n        vertical-align: top;\n    }\n\n    .dataframe thead th {\n        text-align: right;\n    }\n</style>\n<table border=\"1\" class=\"dataframe\">\n  <thead>\n    <tr style=\"text-align: right;\">\n      <th></th>\n      <th>Product_Id</th>\n      <th>Category</th>\n      <th>Sub_Category</th>\n      <th>Brand</th>\n      <th>Price</th>\n      <th>Size</th>\n      <th>Condition</th>\n      <th>URL</th>\n    </tr>\n  </thead>\n  <tbody>\n    <tr>\n      <th>0</th>\n      <td>1264815455-jacquemus-la-riviera-kleid</td>\n      <td>kleider</td>\n      <td>minikleider</td>\n      <td>JACQUEMUS</td>\n      <td>160,00 €</td>\n      <td>XS / 34 / 6</td>\n      <td>GUT</td>\n      <td>https://www.vinted.de/damen/kleidung/kleider/m...</td>\n    </tr>\n    <tr>\n      <th>1</th>\n      <td>1255929602-jacquemus-la-robe-bahia-minidress</td>\n      <td>kleider</td>\n      <td>minikleider</td>\n      <td>JACQUEMUS</td>\n      <td>319,00 €</td>\n      <td>S / 36 / 8</td>\n      <td>NEU, MIT ETIKETT</td>\n      <td>https://www.vinted.de/damen/kleidung/kleider/m...</td>\n    </tr>\n    <tr>\n      <th>2</th>\n      <td>1236664083-jacquemus-la-robe-saudade-navy-klei...</td>\n      <td>fur-anlasse</td>\n      <td>party-and-cocktail</td>\n      <td>JACQUEMUS</td>\n      <td>350,00 €</td>\n      <td>S / 36 / 8</td>\n      <td>NEU, MIT ETIKETT</td>\n      <td>https://www.vinted.de/damen/kleidung/kleider/f...</td>\n    </tr>\n    <tr>\n      <th>3</th>\n      <td>1264854208-jaquemus-le-gandjo-bag</td>\n      <td>taschen</td>\n      <td>handtaschen</td>\n      <td>JACQUEMUS</td>\n      <td>210,00 €</td>\n      <td>NEU, MIT ETIKETT</td>\n      <td>NEU, MIT ETIKETT</td>\n      <td>https://www.vinted.de/damen/taschen/handtasche...</td>\n    </tr>\n    <tr>\n      <th>4</th>\n      <td>1264751001-jacquemus-le-bambino-bag</td>\n      <td>taschen</td>\n      <td>handtaschen</td>\n      <td>JACQUEMUS</td>\n      <td>380,00 €</td>\n      <td>NEU, MIT ETIKETT</td>\n      <td>NEU, MIT ETIKETT</td>\n      <td>https://www.vinted.de/damen/taschen/handtasche...</td>\n    </tr>\n    <tr>\n      <th>5</th>\n      <td>1264721676-jacquemus-le-chiquito-moyen-bag</td>\n      <td>taschen</td>\n      <td>handtaschen</td>\n      <td>JACQUEMUS</td>\n      <td>390,00 €</td>\n      <td>NEU, MIT ETIKETT</td>\n      <td>NEU, MIT ETIKETT</td>\n      <td>https://www.vinted.de/damen/taschen/handtasche...</td>\n    </tr>\n    <tr>\n      <th>6</th>\n      <td>1264609791-jacquemus-handtasche</td>\n      <td>taschen</td>\n      <td>handtaschen</td>\n      <td>JACQUEMUS</td>\n      <td>175,00 €</td>\n      <td>NEU, MIT ETIKETT</td>\n      <td>NEU, MIT ETIKETT</td>\n      <td>https://www.vinted.de/damen/taschen/handtasche...</td>\n    </tr>\n    <tr>\n      <th>7</th>\n      <td>1264055260-jacquemus-le-carre</td>\n      <td>taschen-and-rucksacke</td>\n      <td>umhangetaschen</td>\n      <td>JACQUEMUS</td>\n      <td>500,00 €</td>\n      <td>SEHR GUT</td>\n      <td>SEHR GUT</td>\n      <td>https://www.vinted.de/herren/accessoires/tasch...</td>\n    </tr>\n    <tr>\n      <th>8</th>\n      <td>1263716785-jacquemus-ciquito-tasche</td>\n      <td>taschen</td>\n      <td>handtaschen</td>\n      <td>JACQUEMUS</td>\n      <td>330,00 €</td>\n      <td>NEU, MIT ETIKETT</td>\n      <td>NEU, MIT ETIKETT</td>\n      <td>https://www.vinted.de/damen/taschen/handtasche...</td>\n    </tr>\n    <tr>\n      <th>9</th>\n      <td>1263680243-jacquemus-tasche</td>\n      <td>taschen</td>\n      <td>handtaschen</td>\n      <td>JACQUEMUS</td>\n      <td>250,00 €</td>\n      <td>NEU</td>\n      <td>NEU</td>\n      <td>https://www.vinted.de/damen/taschen/handtasche...</td>\n    </tr>\n    <tr>\n      <th>10</th>\n      <td>1263551154-jacquemus-le-body-yauco-schwarz-34</td>\n      <td>tops-and-t-shirts</td>\n      <td>bodys</td>\n      <td>JACQUEMUS</td>\n      <td>205,00 €</td>\n      <td>XS / 34 / 6</td>\n      <td>NEU, MIT ETIKETT</td>\n      <td>https://www.vinted.de/damen/kleidung/tops-and-...</td>\n    </tr>\n    <tr>\n      <th>11</th>\n      <td>1263349368-jacquemus-le-grand-bambino-schwarz</td>\n      <td>taschen</td>\n      <td>handtaschen</td>\n      <td>JACQUEMUS</td>\n      <td>518,00 €</td>\n      <td>NEU, MIT ETIKETT</td>\n      <td>NEU, MIT ETIKETT</td>\n      <td>https://www.vinted.de/damen/taschen/handtasche...</td>\n    </tr>\n    <tr>\n      <th>12</th>\n      <td>1263300548-jacquemus-le-chiquito-mini-tasche</td>\n      <td>taschen</td>\n      <td>handtaschen</td>\n      <td>JACQUEMUS</td>\n      <td>650,00 €</td>\n      <td>NEU, MIT ETIKETT</td>\n      <td>NEU, MIT ETIKETT</td>\n      <td>https://www.vinted.de/damen/taschen/handtasche...</td>\n    </tr>\n    <tr>\n      <th>13</th>\n      <td>1262813023-neue-jacquemus-tasche</td>\n      <td>taschen</td>\n      <td>handtaschen</td>\n      <td>JACQUEMUS</td>\n      <td>390,00 €</td>\n      <td>NEU, MIT ETIKETT</td>\n      <td>NEU, MIT ETIKETT</td>\n      <td>https://www.vinted.de/damen/taschen/handtasche...</td>\n    </tr>\n    <tr>\n      <th>14</th>\n      <td>1261940293-jacquemus-le-gadjo-bag</td>\n      <td>taschen</td>\n      <td>umhangetaschen</td>\n      <td>JACQUEMUS</td>\n      <td>180,00 €</td>\n      <td>NEU, MIT ETIKETT</td>\n      <td>NEU, MIT ETIKETT</td>\n      <td>https://www.vinted.de/damen/taschen/umhangetas...</td>\n    </tr>\n    <tr>\n      <th>15</th>\n      <td>1259386943-jacquemus-kleid</td>\n      <td>kleider</td>\n      <td>maxikleider</td>\n      <td>JACQUEMUS</td>\n      <td>250,00 €</td>\n      <td>XS / 34 / 6</td>\n      <td>SEHR GUT</td>\n      <td>https://www.vinted.de/damen/kleidung/kleider/m...</td>\n    </tr>\n    <tr>\n      <th>16</th>\n      <td>1261807598-jacquemus-minibag-tote-le-petite-sm...</td>\n      <td>taschen</td>\n      <td>umhangetaschen</td>\n      <td>JACQUEMUS</td>\n      <td>135,00 €</td>\n      <td>NEU, MIT ETIKETT</td>\n      <td>NEU, MIT ETIKETT</td>\n      <td>https://www.vinted.de/damen/taschen/umhangetas...</td>\n    </tr>\n    <tr>\n      <th>17</th>\n      <td>1240368148-jacquemus-white</td>\n      <td>taschen</td>\n      <td>clutches</td>\n      <td>JACQUEMUS</td>\n      <td>250,00 €</td>\n      <td>NEU, MIT ETIKETT</td>\n      <td>NEU, MIT ETIKETT</td>\n      <td>https://www.vinted.de/damen/taschen/clutches/1...</td>\n    </tr>\n    <tr>\n      <th>18</th>\n      <td>1260853158-jacquemus-oberteil-bluse-hemd-aussc...</td>\n      <td>tops-and-t-shirts</td>\n      <td>blusen</td>\n      <td>JACQUEMUS</td>\n      <td>380,00 €</td>\n      <td>S / 36 / 8</td>\n      <td>NEU</td>\n      <td>https://www.vinted.de/damen/kleidung/tops-and-...</td>\n    </tr>\n    <tr>\n      <th>19</th>\n      <td>1260825132-jacquemus-kleid-maxi-midi-fransen-n...</td>\n      <td>kleider</td>\n      <td>maxikleider</td>\n      <td>JACQUEMUS</td>\n      <td>680,00 €</td>\n      <td>S / 36 / 8</td>\n      <td>NEU</td>\n      <td>https://www.vinted.de/damen/kleidung/kleider/m...</td>\n    </tr>\n    <tr>\n      <th>20</th>\n      <td>1253741808-new-jacquemus-palazzo-pants-arcello</td>\n      <td>hosen-and-leggings</td>\n      <td>hosen-mit-weitem-bein</td>\n      <td>JACQUEMUS</td>\n      <td>180,00 €</td>\n      <td>XS / 34 / 6</td>\n      <td>NEU, MIT ETIKETT</td>\n      <td>https://www.vinted.de/damen/kleidung/hosen-and...</td>\n    </tr>\n    <tr>\n      <th>21</th>\n      <td>1260271462-tasche-jacquemus</td>\n      <td>taschen</td>\n      <td>handtaschen</td>\n      <td>JACQUEMUS</td>\n      <td>260,00 €</td>\n      <td>NEU</td>\n      <td>NEU</td>\n      <td>https://www.vinted.de/damen/taschen/handtasche...</td>\n    </tr>\n  </tbody>\n</table>\n</div>"
     },
     "metadata": {},
     "execution_count": 151
    }
   ],
   "source": [
    "pd.DataFrame(alldetails)"
   ]
  },
  {
   "cell_type": "code",
   "execution_count": null,
   "metadata": {},
   "outputs": [],
   "source": []
  }
 ]
}