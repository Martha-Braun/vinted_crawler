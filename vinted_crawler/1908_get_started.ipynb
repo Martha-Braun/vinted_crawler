{
 "metadata": {
  "language_info": {
   "codemirror_mode": {
    "name": "ipython",
    "version": 3
   },
   "file_extension": ".py",
   "mimetype": "text/x-python",
   "name": "python",
   "nbconvert_exporter": "python",
   "pygments_lexer": "ipython3",
   "version": "3.7.3"
  },
  "orig_nbformat": 2,
  "kernelspec": {
   "name": "python3",
   "display_name": "Python 3.7.3 64-bit ('vinted-crawler-package-zvLrHxc3-py3.7': poetry)"
  },
  "interpreter": {
   "hash": "8eb28134678f2beb3d6ac485baa6360e9b90b07549ca83bb032849a1350c04e7"
  }
 },
 "nbformat": 4,
 "nbformat_minor": 2,
 "cells": [
  {
   "cell_type": "code",
   "execution_count": 57,
   "source": [
    "# import libraries\n",
    "import pandas as pd\n",
    "import numpy as np\n",
    "from selenium import webdriver\n",
    "from selenium.webdriver.chrome.options import Options\n",
    "from selenium.webdriver import ActionChains\n",
    "from selenium.common.exceptions import NoSuchElementException\n",
    "import time\n",
    "import datetime\n",
    "from tqdm import tqdm"
   ],
   "outputs": [],
   "metadata": {}
  },
  {
   "cell_type": "code",
   "execution_count": 58,
   "source": [
    "# setting up chrome options\n",
    "chrome_options = Options()\n",
    "# browsing in incognito mode\n",
    "chrome_options.add_argument(\"--incognito\")\n",
    "# setting window size to 1920x1080\n",
    "chrome_options.add_argument(\"--window-size=1920x1080\")"
   ],
   "outputs": [],
   "metadata": {}
  },
  {
   "cell_type": "code",
   "execution_count": 59,
   "source": [
    "# create instance\n",
    "driver = webdriver.Chrome(chrome_options=chrome_options, executable_path=\n",
    "\"/Users/marthab/Desktop/Python_Labs/vinted_crawler/chromedriver\")"
   ],
   "outputs": [
    {
     "output_type": "stream",
     "name": "stderr",
     "text": [
      "/Users/marthab/Library/Caches/pypoetry/virtualenvs/vinted-crawler-package-zvLrHxc3-py3.7/lib/python3.7/site-packages/ipykernel_launcher.py:3: DeprecationWarning: use options instead of chrome_options\n",
      "  This is separate from the ipykernel package so we can avoid doing imports until\n"
     ]
    }
   ],
   "metadata": {}
  },
  {
   "cell_type": "code",
   "execution_count": 81,
   "source": [
    "# set url to Women > Jacquemus, filter: newest first\n",
    "url = \"https://www.vinted.de/vetements?brand_id[]=168278&catalog[]=1904&order=newest_first\"\n",
    "driver.get(url)\n",
    "\n",
    "# wait 2 sec for page to fully load\n",
    "time.sleep(2)"
   ],
   "outputs": [],
   "metadata": {}
  },
  {
   "cell_type": "code",
   "execution_count": 61,
   "source": [
    "# don't accept cookies\n",
    "try:\n",
    "# privatsphäre-einstellung alle ablehnen\n",
    "    reject_all_button = driver.find_element_by_css_selector(\"#onetrust-reject-all-handler\")\n",
    "    ActionChains(driver).click(reject_all_button).perform()\n",
    "#NoSuchElementException thrown if not present\n",
    "except NoSuchElementException:\n",
    "    print(\"Not asked for privacy settings\")\n",
    "\n",
    "# choose country Germany\n",
    "try:\n",
    "    germany_button = driver.find_element_by_xpath(\"/html/body/div[13]/div/div/div/div[3]/div[3]/div[2]/div/h2/span\")\n",
    "    ActionChains(driver).click(germany_button).perform()\n",
    "except NoSuchElementException:\n",
    "    print(\"Not asked for country\")\n",
    "\n",
    "# wait 2 sec for page to fully load\n",
    "time.sleep(2)"
   ],
   "outputs": [],
   "metadata": {}
  },
  {
   "cell_type": "code",
   "execution_count": 66,
   "source": [
    "# make sure you are on the right page\n",
    "if 'brand_id[]=168278&catalog[]=1904' not in driver.current_url:\n",
    "    url = \"https://www.vinted.de/vetements?brand_id[]=168278&catalog[]=1904&order=newest_first\"\n",
    "    driver.get(url)\n",
    "    time.sleep(2)"
   ],
   "outputs": [],
   "metadata": {}
  },
  {
   "cell_type": "code",
   "execution_count": 67,
   "source": [
    "# get url of all products on first page \n",
    "products = driver.find_elements_by_css_selector(\"a.ItemBox_overlay__1kNfX\")\n",
    "product_urls = [prod.get_attribute(\"href\") for prod in products]"
   ],
   "outputs": [],
   "metadata": {}
  },
  {
   "cell_type": "code",
   "execution_count": 70,
   "source": [
    "test_url = \"https://www.vinted.de/damen/taschen/handtaschen/1264854208-jaquemus-le-gandjo-bag\"\n",
    "driver.get(test_url)\n",
    "upload_date = driver.find_element_by_xpath(\"//div[@class='details-list__item-value']/time\").get_attribute(\"datetime\")\n",
    "upload_date"
   ],
   "outputs": [
    {
     "output_type": "execute_result",
     "data": {
      "text/plain": [
       "'2021-08-19T19:11:03+02:00'"
      ]
     },
     "metadata": {},
     "execution_count": 70
    }
   ],
   "metadata": {}
  },
  {
   "cell_type": "code",
   "execution_count": 71,
   "source": [
    "import datetime\n",
    "upload_date_f = datetime.datetime.strptime(upload_date, \"%Y-%m-%dT%H:%M:%S%z\").date()\n",
    "print(upload_date_f)"
   ],
   "outputs": [
    {
     "output_type": "stream",
     "name": "stdout",
     "text": [
      "2021-08-19\n"
     ]
    }
   ],
   "metadata": {}
  },
  {
   "cell_type": "code",
   "execution_count": 72,
   "source": [
    "today = datetime.datetime.now().date()\n",
    "yesterday = today - datetime.timedelta(days=1)\n",
    "print(yesterday)"
   ],
   "outputs": [
    {
     "output_type": "stream",
     "name": "stdout",
     "text": [
      "2021-08-19\n"
     ]
    }
   ],
   "metadata": {}
  },
  {
   "cell_type": "code",
   "execution_count": 79,
   "source": [
    "if upload_date_f != yesterday and upload_date_f != today:\n",
    "    print('older than 1 day')"
   ],
   "outputs": [],
   "metadata": {}
  },
  {
   "cell_type": "code",
   "execution_count": 90,
   "source": [
    "np.arange(4)"
   ],
   "outputs": [
    {
     "output_type": "execute_result",
     "data": {
      "text/plain": [
       "array([0, 1, 2, 3])"
      ]
     },
     "metadata": {},
     "execution_count": 90
    }
   ],
   "metadata": {}
  },
  {
   "cell_type": "code",
   "execution_count": 91,
   "source": [
    "for x in np.arange(4):\n",
    "    if upload_date_f != today:\n",
    "        break\n",
    "    print(x)"
   ],
   "outputs": [],
   "metadata": {}
  },
  {
   "cell_type": "code",
   "execution_count": 92,
   "source": [
    "#scraping individual product details\n",
    "product_details=[]\n",
    "today = datetime.datetime.now().date()\n",
    "yesterday = today - datetime.timedelta(days=1)\n",
    "\n",
    "for product_url in tqdm(product_urls):\n",
    "    driver.get(product_url)\n",
    "    #time.sleep(3)\n",
    "\n",
    "    # get upload_date and stop for loop if item was uploaded more than 1 day ago\n",
    "    upload_date_full = driver.find_element_by_xpath(\"//div[@class='details-list__item-value']/time\").get_attribute(\"datetime\")\n",
    "    upload_date = datetime.datetime.strptime(upload_date_full, \"%Y-%m-%dT%H:%M:%S%z\").date()\n",
    "    if upload_date != yesterday and upload_date != today:\n",
    "        break\n",
    "\n",
    "    # get product id from url\n",
    "    product_id = product_url.split('/')[-1]\n",
    "\n",
    "    # get product subcatgory from url\n",
    "    product_subcat = product_url.split('/')[-2]\n",
    "\n",
    "    # get product catgory from url\n",
    "    product_cat = product_url.split('/')[-3]\n",
    "\n",
    "    # get brand\n",
    "    brand = driver.find_element_by_xpath(\"//a[@itemprop='url']/span[@itemprop='name']\").text\n",
    "\n",
    "    # get price\n",
    "    price = driver.find_element_by_xpath('/html/body/div[5]/div/section/div/div[2]/main/aside/div[1]/div[1]/div[1]/div[1]/span/div').text\n",
    "\n",
    "    # get size \n",
    "    try:\n",
    "        size_check = driver.find_element_by_xpath(\"//div[@class='details-list__item u-position-relative']/div[contains(text(), 'Größe')]\")\n",
    "        size = driver.find_element_by_xpath('/html/body/div[5]/div/section/div/div[2]/main/aside/div[1]/div[1]/div[2]/div[2]/div[2]').text\n",
    "    except NoSuchElementException:\n",
    "        size = \"-\"\n",
    "\n",
    "    # get item condition\n",
    "    condition = driver.find_element_by_xpath(\"//div[@itemprop='itemCondition']\").text\n",
    "\n",
    "    # get colour\n",
    "    colour = driver.find_element_by_xpath(\"//div[@itemprop='color']\").text\n",
    "\n",
    "\n",
    "    infos ={\n",
    "        'Upload_date':upload_date,\n",
    "        'Product_Id':product_id,\n",
    "        'Category':product_cat,\n",
    "        'Sub_Category':product_subcat,\n",
    "        'Brand':brand,\n",
    "        'Price':price,\n",
    "        'Size':size,\n",
    "        'Condition':condition,\n",
    "        'URL':product_url}\n",
    "\n",
    "    product_details.append(infos)\n",
    "\n",
    "    "
   ],
   "outputs": [
    {
     "output_type": "stream",
     "name": "stderr",
     "text": [
      " 45%|████▌     | 10/22 [00:22<00:27,  2.28s/it]\n"
     ]
    }
   ],
   "metadata": {}
  },
  {
   "cell_type": "code",
   "execution_count": 93,
   "source": [
    "pd.DataFrame(product_details)"
   ],
   "outputs": [
    {
     "output_type": "execute_result",
     "data": {
      "text/plain": [
       "  Upload_date                                         Product_Id  \\\n",
       "0  2021-08-20         1266125235-neu-mit-etikett-jacquemus-shirt   \n",
       "1  2021-08-20                    1266124136-jacquemus-handtasche   \n",
       "2  2021-08-20                        1266053457-jacquemus-tasche   \n",
       "3  2021-08-20                    1265934342-jacquemus-handtasche   \n",
       "4  2021-08-20  1265708928-schwarze-jacquemus-le-petit-chiquit...   \n",
       "5  2021-08-19                1264941733-jacquemus-fischerhut-neu   \n",
       "6  2021-08-19                  1264854208-jaquemus-le-gandjo-bag   \n",
       "7  2021-08-19                      1264055260-jacquemus-le-carre   \n",
       "8  2021-08-19                1263716785-jacquemus-ciquito-tasche   \n",
       "9  2021-08-19                        1263680243-jacquemus-tasche   \n",
       "\n",
       "                Category    Sub_Category      Brand     Price        Size  \\\n",
       "0      tops-and-t-shirts          shirts  JACQUEMUS   80,00 €  S / 36 / 8   \n",
       "1                taschen     handtaschen  JACQUEMUS  170,00 €           -   \n",
       "2                taschen     handtaschen  JACQUEMUS  150,00 €           -   \n",
       "3                taschen     handtaschen  JACQUEMUS  175,00 €           -   \n",
       "4                taschen     handtaschen  JACQUEMUS  135,00 €           -   \n",
       "5        hute-and-mutzen       sonstiges  JACQUEMUS  125,00 €           -   \n",
       "6                taschen     handtaschen  JACQUEMUS  210,00 €           -   \n",
       "7  taschen-and-rucksacke  umhangetaschen  JACQUEMUS  500,00 €           -   \n",
       "8                taschen     handtaschen  JACQUEMUS  330,00 €           -   \n",
       "9                taschen     handtaschen  JACQUEMUS  250,00 €           -   \n",
       "\n",
       "          Condition                                                URL  \n",
       "0  NEU, MIT ETIKETT  https://www.vinted.de/damen/kleidung/tops-and-...  \n",
       "1  NEU, MIT ETIKETT  https://www.vinted.de/damen/taschen/handtasche...  \n",
       "2  NEU, MIT ETIKETT  https://www.vinted.de/damen/taschen/handtasche...  \n",
       "3  NEU, MIT ETIKETT  https://www.vinted.de/damen/taschen/handtasche...  \n",
       "4  NEU, MIT ETIKETT  https://www.vinted.de/damen/taschen/handtasche...  \n",
       "5  NEU, MIT ETIKETT  https://www.vinted.de/damen/accessoires/hute-a...  \n",
       "6  NEU, MIT ETIKETT  https://www.vinted.de/damen/taschen/handtasche...  \n",
       "7          SEHR GUT  https://www.vinted.de/herren/accessoires/tasch...  \n",
       "8  NEU, MIT ETIKETT  https://www.vinted.de/damen/taschen/handtasche...  \n",
       "9               NEU  https://www.vinted.de/damen/taschen/handtasche...  "
      ],
      "text/html": [
       "<div>\n",
       "<style scoped>\n",
       "    .dataframe tbody tr th:only-of-type {\n",
       "        vertical-align: middle;\n",
       "    }\n",
       "\n",
       "    .dataframe tbody tr th {\n",
       "        vertical-align: top;\n",
       "    }\n",
       "\n",
       "    .dataframe thead th {\n",
       "        text-align: right;\n",
       "    }\n",
       "</style>\n",
       "<table border=\"1\" class=\"dataframe\">\n",
       "  <thead>\n",
       "    <tr style=\"text-align: right;\">\n",
       "      <th></th>\n",
       "      <th>Upload_date</th>\n",
       "      <th>Product_Id</th>\n",
       "      <th>Category</th>\n",
       "      <th>Sub_Category</th>\n",
       "      <th>Brand</th>\n",
       "      <th>Price</th>\n",
       "      <th>Size</th>\n",
       "      <th>Condition</th>\n",
       "      <th>URL</th>\n",
       "    </tr>\n",
       "  </thead>\n",
       "  <tbody>\n",
       "    <tr>\n",
       "      <th>0</th>\n",
       "      <td>2021-08-20</td>\n",
       "      <td>1266125235-neu-mit-etikett-jacquemus-shirt</td>\n",
       "      <td>tops-and-t-shirts</td>\n",
       "      <td>shirts</td>\n",
       "      <td>JACQUEMUS</td>\n",
       "      <td>80,00 €</td>\n",
       "      <td>S / 36 / 8</td>\n",
       "      <td>NEU, MIT ETIKETT</td>\n",
       "      <td>https://www.vinted.de/damen/kleidung/tops-and-...</td>\n",
       "    </tr>\n",
       "    <tr>\n",
       "      <th>1</th>\n",
       "      <td>2021-08-20</td>\n",
       "      <td>1266124136-jacquemus-handtasche</td>\n",
       "      <td>taschen</td>\n",
       "      <td>handtaschen</td>\n",
       "      <td>JACQUEMUS</td>\n",
       "      <td>170,00 €</td>\n",
       "      <td>-</td>\n",
       "      <td>NEU, MIT ETIKETT</td>\n",
       "      <td>https://www.vinted.de/damen/taschen/handtasche...</td>\n",
       "    </tr>\n",
       "    <tr>\n",
       "      <th>2</th>\n",
       "      <td>2021-08-20</td>\n",
       "      <td>1266053457-jacquemus-tasche</td>\n",
       "      <td>taschen</td>\n",
       "      <td>handtaschen</td>\n",
       "      <td>JACQUEMUS</td>\n",
       "      <td>150,00 €</td>\n",
       "      <td>-</td>\n",
       "      <td>NEU, MIT ETIKETT</td>\n",
       "      <td>https://www.vinted.de/damen/taschen/handtasche...</td>\n",
       "    </tr>\n",
       "    <tr>\n",
       "      <th>3</th>\n",
       "      <td>2021-08-20</td>\n",
       "      <td>1265934342-jacquemus-handtasche</td>\n",
       "      <td>taschen</td>\n",
       "      <td>handtaschen</td>\n",
       "      <td>JACQUEMUS</td>\n",
       "      <td>175,00 €</td>\n",
       "      <td>-</td>\n",
       "      <td>NEU, MIT ETIKETT</td>\n",
       "      <td>https://www.vinted.de/damen/taschen/handtasche...</td>\n",
       "    </tr>\n",
       "    <tr>\n",
       "      <th>4</th>\n",
       "      <td>2021-08-20</td>\n",
       "      <td>1265708928-schwarze-jacquemus-le-petit-chiquit...</td>\n",
       "      <td>taschen</td>\n",
       "      <td>handtaschen</td>\n",
       "      <td>JACQUEMUS</td>\n",
       "      <td>135,00 €</td>\n",
       "      <td>-</td>\n",
       "      <td>NEU, MIT ETIKETT</td>\n",
       "      <td>https://www.vinted.de/damen/taschen/handtasche...</td>\n",
       "    </tr>\n",
       "    <tr>\n",
       "      <th>5</th>\n",
       "      <td>2021-08-19</td>\n",
       "      <td>1264941733-jacquemus-fischerhut-neu</td>\n",
       "      <td>hute-and-mutzen</td>\n",
       "      <td>sonstiges</td>\n",
       "      <td>JACQUEMUS</td>\n",
       "      <td>125,00 €</td>\n",
       "      <td>-</td>\n",
       "      <td>NEU, MIT ETIKETT</td>\n",
       "      <td>https://www.vinted.de/damen/accessoires/hute-a...</td>\n",
       "    </tr>\n",
       "    <tr>\n",
       "      <th>6</th>\n",
       "      <td>2021-08-19</td>\n",
       "      <td>1264854208-jaquemus-le-gandjo-bag</td>\n",
       "      <td>taschen</td>\n",
       "      <td>handtaschen</td>\n",
       "      <td>JACQUEMUS</td>\n",
       "      <td>210,00 €</td>\n",
       "      <td>-</td>\n",
       "      <td>NEU, MIT ETIKETT</td>\n",
       "      <td>https://www.vinted.de/damen/taschen/handtasche...</td>\n",
       "    </tr>\n",
       "    <tr>\n",
       "      <th>7</th>\n",
       "      <td>2021-08-19</td>\n",
       "      <td>1264055260-jacquemus-le-carre</td>\n",
       "      <td>taschen-and-rucksacke</td>\n",
       "      <td>umhangetaschen</td>\n",
       "      <td>JACQUEMUS</td>\n",
       "      <td>500,00 €</td>\n",
       "      <td>-</td>\n",
       "      <td>SEHR GUT</td>\n",
       "      <td>https://www.vinted.de/herren/accessoires/tasch...</td>\n",
       "    </tr>\n",
       "    <tr>\n",
       "      <th>8</th>\n",
       "      <td>2021-08-19</td>\n",
       "      <td>1263716785-jacquemus-ciquito-tasche</td>\n",
       "      <td>taschen</td>\n",
       "      <td>handtaschen</td>\n",
       "      <td>JACQUEMUS</td>\n",
       "      <td>330,00 €</td>\n",
       "      <td>-</td>\n",
       "      <td>NEU, MIT ETIKETT</td>\n",
       "      <td>https://www.vinted.de/damen/taschen/handtasche...</td>\n",
       "    </tr>\n",
       "    <tr>\n",
       "      <th>9</th>\n",
       "      <td>2021-08-19</td>\n",
       "      <td>1263680243-jacquemus-tasche</td>\n",
       "      <td>taschen</td>\n",
       "      <td>handtaschen</td>\n",
       "      <td>JACQUEMUS</td>\n",
       "      <td>250,00 €</td>\n",
       "      <td>-</td>\n",
       "      <td>NEU</td>\n",
       "      <td>https://www.vinted.de/damen/taschen/handtasche...</td>\n",
       "    </tr>\n",
       "  </tbody>\n",
       "</table>\n",
       "</div>"
      ]
     },
     "metadata": {},
     "execution_count": 93
    }
   ],
   "metadata": {}
  },
  {
   "cell_type": "code",
   "execution_count": null,
   "source": [],
   "outputs": [],
   "metadata": {}
  }
 ]
}