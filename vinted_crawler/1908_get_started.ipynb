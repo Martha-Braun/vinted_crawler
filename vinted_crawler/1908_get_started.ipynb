{
 "metadata": {
  "language_info": {
   "codemirror_mode": {
    "name": "ipython",
    "version": 3
   },
   "file_extension": ".py",
   "mimetype": "text/x-python",
   "name": "python",
   "nbconvert_exporter": "python",
   "pygments_lexer": "ipython3",
   "version": "3.7.3"
  },
  "orig_nbformat": 2,
  "kernelspec": {
   "name": "python3",
   "display_name": "Python 3.7.3 64-bit ('vinted-crawler-package-zvLrHxc3-py3.7': poetry)"
  },
  "interpreter": {
   "hash": "8eb28134678f2beb3d6ac485baa6360e9b90b07549ca83bb032849a1350c04e7"
  }
 },
 "nbformat": 4,
 "nbformat_minor": 2,
 "cells": [
  {
   "cell_type": "code",
   "execution_count": 1,
   "source": [
    "# import libraries\n",
    "import pandas as pd\n",
    "import numpy as np\n",
    "from selenium import webdriver\n",
    "from selenium.webdriver.chrome.options import Options\n",
    "from selenium.webdriver import ActionChains\n",
    "from selenium.common.exceptions import NoSuchElementException\n",
    "import time\n",
    "import datetime\n",
    "from tqdm import tqdm\n",
    "import gspread\n",
    "from df2gspread import df2gspread as d2g\n",
    "from oauth2client.service_account import ServiceAccountCredentials\n",
    "import gspread_dataframe as gd\n",
    "\n",
    "# constants\n",
    "from confidential.conf_constants import *"
   ],
   "outputs": [],
   "metadata": {}
  },
  {
   "cell_type": "code",
   "execution_count": 4,
   "source": [
    "av_test = pd.read_csv('data/20210906_Alexandre Vauthier.csv')\n",
    "av_test.shape[0]==0"
   ],
   "outputs": [
    {
     "output_type": "execute_result",
     "data": {
      "text/plain": [
       "True"
      ]
     },
     "metadata": {},
     "execution_count": 4
    }
   ],
   "metadata": {}
  },
  {
   "cell_type": "code",
   "execution_count": 8,
   "source": [
    "ar_test = pd.read_csv('data/20210906_Allessandra Rich.csv')\n",
    "ar_test.head()"
   ],
   "outputs": [
    {
     "output_type": "execute_result",
     "data": {
      "text/html": [
       "<div>\n",
       "<style scoped>\n",
       "    .dataframe tbody tr th:only-of-type {\n",
       "        vertical-align: middle;\n",
       "    }\n",
       "\n",
       "    .dataframe tbody tr th {\n",
       "        vertical-align: top;\n",
       "    }\n",
       "\n",
       "    .dataframe thead th {\n",
       "        text-align: right;\n",
       "    }\n",
       "</style>\n",
       "<table border=\"1\" class=\"dataframe\">\n",
       "  <thead>\n",
       "    <tr style=\"text-align: right;\">\n",
       "      <th></th>\n",
       "      <th>Unnamed: 0</th>\n",
       "    </tr>\n",
       "  </thead>\n",
       "  <tbody>\n",
       "  </tbody>\n",
       "</table>\n",
       "</div>"
      ],
      "text/plain": [
       "Empty DataFrame\n",
       "Columns: [Unnamed: 0]\n",
       "Index: []"
      ]
     },
     "metadata": {},
     "execution_count": 8
    }
   ],
   "metadata": {}
  },
  {
   "cell_type": "code",
   "execution_count": 6,
   "source": [
    "av_test.loc[0, 'Unnamed: 0'] = 'No new upload'\n",
    "av_test"
   ],
   "outputs": [
    {
     "output_type": "execute_result",
     "data": {
      "text/html": [
       "<div>\n",
       "<style scoped>\n",
       "    .dataframe tbody tr th:only-of-type {\n",
       "        vertical-align: middle;\n",
       "    }\n",
       "\n",
       "    .dataframe tbody tr th {\n",
       "        vertical-align: top;\n",
       "    }\n",
       "\n",
       "    .dataframe thead th {\n",
       "        text-align: right;\n",
       "    }\n",
       "</style>\n",
       "<table border=\"1\" class=\"dataframe\">\n",
       "  <thead>\n",
       "    <tr style=\"text-align: right;\">\n",
       "      <th></th>\n",
       "      <th>Unnamed: 0</th>\n",
       "    </tr>\n",
       "  </thead>\n",
       "  <tbody>\n",
       "    <tr>\n",
       "      <th>0</th>\n",
       "      <td>No new upload</td>\n",
       "    </tr>\n",
       "  </tbody>\n",
       "</table>\n",
       "</div>"
      ],
      "text/plain": [
       "      Unnamed: 0\n",
       "0  No new upload"
      ]
     },
     "metadata": {},
     "execution_count": 6
    }
   ],
   "metadata": {}
  },
  {
   "cell_type": "code",
   "execution_count": 3,
   "source": [
    "real_today = datetime.datetime.now().date()\n",
    "today = real_today - datetime.timedelta(days=8)\n",
    "yesterday = today - datetime.timedelta(days=1)\n",
    "print(today)"
   ],
   "outputs": [
    {
     "output_type": "stream",
     "name": "stdout",
     "text": [
      "2021-08-26\n"
     ]
    }
   ],
   "metadata": {}
  },
  {
   "cell_type": "code",
   "execution_count": 161,
   "source": [
    "# setting up chrome options\n",
    "chrome_options = Options()\n",
    "# browsing in incognito mode\n",
    "chrome_options.add_argument(\"--incognito\")\n",
    "# setting window size to 1920x1080\n",
    "chrome_options.add_argument(\"--window-size=1920x1080\")"
   ],
   "outputs": [],
   "metadata": {}
  },
  {
   "cell_type": "code",
   "execution_count": 162,
   "source": [
    "# create instance\n",
    "driver = webdriver.Chrome(chrome_options=chrome_options, executable_path=\n",
    "\"/Users/marthab/Desktop/Python_Labs/vinted_crawler/chromedriver\")"
   ],
   "outputs": [
    {
     "output_type": "stream",
     "name": "stderr",
     "text": [
      "/Users/marthab/Library/Caches/pypoetry/virtualenvs/vinted-crawler-package-zvLrHxc3-py3.7/lib/python3.7/site-packages/ipykernel_launcher.py:3: DeprecationWarning: use options instead of chrome_options\n",
      "  This is separate from the ipykernel package so we can avoid doing imports until\n"
     ]
    }
   ],
   "metadata": {}
  },
  {
   "cell_type": "code",
   "execution_count": 163,
   "source": [
    "# set url to Women > Jacquemus > filter:newest first\n",
    "url = \"https://www.vinted.de/vetements?brand_id[]=168278&catalog[]=1904&order=newest_first\"\n",
    "driver.get(url)\n",
    "\n",
    "# wait 2 sec for page to fully load\n",
    "time.sleep(2)"
   ],
   "outputs": [],
   "metadata": {}
  },
  {
   "cell_type": "code",
   "execution_count": 164,
   "source": [
    "# don't accept cookies\n",
    "try:\n",
    "# privatsphäre-einstellung alle ablehnen\n",
    "    reject_all_button = driver.find_element_by_css_selector(\"#onetrust-reject-all-handler\")\n",
    "    ActionChains(driver).click(reject_all_button).perform()\n",
    "#NoSuchElementException thrown if not present\n",
    "except NoSuchElementException:\n",
    "    print(\"Not asked for privacy settings\")\n",
    "\n",
    "# choose country Germany\n",
    "try:\n",
    "    germany_button = driver.find_element_by_xpath(\"/html/body/div[13]/div/div/div/div[3]/div[3]/div[2]/div/h2/span\")\n",
    "    ActionChains(driver).click(germany_button).perform()\n",
    "except NoSuchElementException:\n",
    "    print(\"Not asked for country\")\n",
    "\n",
    "# wait 2 sec for page to fully load\n",
    "time.sleep(2)"
   ],
   "outputs": [],
   "metadata": {}
  },
  {
   "cell_type": "code",
   "execution_count": 165,
   "source": [
    "# make sure you are on the right page\n",
    "if 'brand_id[]=168278&catalog[]=1904' not in driver.current_url:\n",
    "    url = \"https://www.vinted.de/vetements?brand_id[]=168278&catalog[]=1904&order=newest_first\"\n",
    "    driver.get(url)\n",
    "    time.sleep(2)"
   ],
   "outputs": [],
   "metadata": {}
  },
  {
   "cell_type": "code",
   "execution_count": 166,
   "source": [
    "# get url of all products on first 5 pages\n",
    "product_urls = []\n",
    "for page in range(1, 5, 1):\n",
    "    page_url = f\"https://www.vinted.de/vetements?brand_id[]=168278&catalog[]=1904&order=newest_first&page={page}\"\n",
    "    driver.get(page_url)\n",
    "    products = driver.find_elements_by_css_selector(\"a.ItemBox_overlay__1kNfX\")\n",
    "    product_urls_page = [prod.get_attribute(\"href\") for prod in products]\n",
    "    product_urls.extend(product_urls_page)"
   ],
   "outputs": [],
   "metadata": {}
  },
  {
   "cell_type": "code",
   "execution_count": 167,
   "source": [
    "#scraping individual product details\n",
    "product_details=[]\n",
    "today = datetime.datetime.now().date() \n",
    "yesterday = today - datetime.timedelta(days=1)\n",
    "\n",
    "for product_url in tqdm(product_urls):\n",
    "    driver.get(product_url)\n",
    "\n",
    "    # get upload_date and stop for loop if item was uploaded more than 1 day ago\n",
    "    upload_date_full = driver.find_element_by_xpath(\"//div[@class='details-list__item-value']/time\").get_attribute(\"datetime\")\n",
    "    upload_date = datetime.datetime.strptime(upload_date_full, \"%Y-%m-%dT%H:%M:%S%z\").date()\n",
    "    if upload_date != yesterday and upload_date != today:\n",
    "        break\n",
    "\n",
    "    # get product id from url\n",
    "    product_id = product_url.split('/')[-1]\n",
    "\n",
    "    # get product subcatgory from url\n",
    "    product_subcat = product_url.split('/')[-2]\n",
    "\n",
    "    # get product catgory from url\n",
    "    product_cat = product_url.split('/')[-3]\n",
    "\n",
    "    # get brand\n",
    "    brand = driver.find_element_by_xpath(\"//a[@itemprop='url']/span[@itemprop='name']\").text\n",
    "\n",
    "    # get price\n",
    "    price = driver.find_element_by_xpath('/html/body/div[5]/div/section/div/div[2]/main/aside/div[1]/div[1]/div[1]/div[1]/span/div').text\n",
    "\n",
    "    # get size \n",
    "    try:\n",
    "        size_check = driver.find_element_by_xpath(\"//div[@class='details-list__item u-position-relative']/div[contains(text(), 'Größe')]\")\n",
    "        size = driver.find_element_by_xpath('/html/body/div[5]/div/section/div/div[2]/main/aside/div[1]/div[1]/div[2]/div[2]/div[2]').text\n",
    "    except NoSuchElementException:\n",
    "        size = \"-\"\n",
    "\n",
    "    # get item condition\n",
    "    try:\n",
    "        condition = driver.find_element_by_xpath(\"//div[@itemprop='itemCondition']\").text\n",
    "    except:\n",
    "        condition = \"-\"\n",
    "\n",
    "    # get colour\n",
    "    try:\n",
    "        colour = driver.find_element_by_xpath(\"//div[@itemprop='color']\").text\n",
    "    except NoSuchElementException:\n",
    "        colour = \"-\"\n",
    "\n",
    "\n",
    "    infos ={\n",
    "        'Upload_date':upload_date,\n",
    "        'Product_Id':product_id,\n",
    "        'Category':product_cat,\n",
    "        'Sub_Category':product_subcat,\n",
    "        'Brand':brand,\n",
    "        'Price':price,\n",
    "        'Size':size,\n",
    "        'Condition':condition,\n",
    "        'Colour':colour,\n",
    "        'URL':product_url}\n",
    "\n",
    "    product_details.append(infos)\n",
    "\n",
    "    "
   ],
   "outputs": [
    {
     "output_type": "stream",
     "name": "stderr",
     "text": [
      "  6%|▋         | 6/93 [00:11<02:51,  1.97s/it]\n"
     ]
    }
   ],
   "metadata": {}
  },
  {
   "cell_type": "code",
   "execution_count": 168,
   "source": [
    "product_details_df = pd.DataFrame(product_details)\n",
    "product_details_df"
   ],
   "outputs": [
    {
     "output_type": "execute_result",
     "data": {
      "text/html": [
       "<div>\n",
       "<style scoped>\n",
       "    .dataframe tbody tr th:only-of-type {\n",
       "        vertical-align: middle;\n",
       "    }\n",
       "\n",
       "    .dataframe tbody tr th {\n",
       "        vertical-align: top;\n",
       "    }\n",
       "\n",
       "    .dataframe thead th {\n",
       "        text-align: right;\n",
       "    }\n",
       "</style>\n",
       "<table border=\"1\" class=\"dataframe\">\n",
       "  <thead>\n",
       "    <tr style=\"text-align: right;\">\n",
       "      <th></th>\n",
       "      <th>Upload_date</th>\n",
       "      <th>Product_Id</th>\n",
       "      <th>Category</th>\n",
       "      <th>Sub_Category</th>\n",
       "      <th>Brand</th>\n",
       "      <th>Price</th>\n",
       "      <th>Size</th>\n",
       "      <th>Condition</th>\n",
       "      <th>Colour</th>\n",
       "      <th>URL</th>\n",
       "    </tr>\n",
       "  </thead>\n",
       "  <tbody>\n",
       "    <tr>\n",
       "      <th>0</th>\n",
       "      <td>2021-08-24</td>\n",
       "      <td>1272555950-jacquemus-hut</td>\n",
       "      <td>accessoires</td>\n",
       "      <td>hute-and-mutzen-231</td>\n",
       "      <td>JACQUEMUS</td>\n",
       "      <td>125,00 €</td>\n",
       "      <td>-</td>\n",
       "      <td>SEHR GUT</td>\n",
       "      <td>KHAKI</td>\n",
       "      <td>https://www.vinted.de/damen/accessoires/hute-a...</td>\n",
       "    </tr>\n",
       "    <tr>\n",
       "      <th>1</th>\n",
       "      <td>2021-08-24</td>\n",
       "      <td>1272200393-orig-jacquemus-vanity-olive-print-m...</td>\n",
       "      <td>taschen</td>\n",
       "      <td>umhangetaschen</td>\n",
       "      <td>JACQUEMUS</td>\n",
       "      <td>120,00 €</td>\n",
       "      <td>-</td>\n",
       "      <td>NEU, MIT ETIKETT</td>\n",
       "      <td>HELLBLAU</td>\n",
       "      <td>https://www.vinted.de/damen/taschen/umhangetas...</td>\n",
       "    </tr>\n",
       "    <tr>\n",
       "      <th>2</th>\n",
       "      <td>2021-08-23</td>\n",
       "      <td>1271641069-jacquemus-ascea-top-oberteil-weiss-...</td>\n",
       "      <td>tops-and-t-shirts</td>\n",
       "      <td>schulterfreie-tops</td>\n",
       "      <td>JACQUEMUS</td>\n",
       "      <td>200,00 €</td>\n",
       "      <td>S / 36 / 8</td>\n",
       "      <td>NEU</td>\n",
       "      <td>WEISS, CREME</td>\n",
       "      <td>https://www.vinted.de/damen/kleidung/tops-and-...</td>\n",
       "    </tr>\n",
       "    <tr>\n",
       "      <th>3</th>\n",
       "      <td>2021-08-23</td>\n",
       "      <td>1271504264-jacquemus-le-petit-chiquito</td>\n",
       "      <td>taschen</td>\n",
       "      <td>handtaschen</td>\n",
       "      <td>JACQUEMUS</td>\n",
       "      <td>150,00 €</td>\n",
       "      <td>-</td>\n",
       "      <td>NEU</td>\n",
       "      <td>BLAU, WEISS</td>\n",
       "      <td>https://www.vinted.de/damen/taschen/handtasche...</td>\n",
       "    </tr>\n",
       "    <tr>\n",
       "      <th>4</th>\n",
       "      <td>2021-08-23</td>\n",
       "      <td>1271159067-jacquemus</td>\n",
       "      <td>taschen</td>\n",
       "      <td>handtaschen</td>\n",
       "      <td>JACQUEMUS</td>\n",
       "      <td>199,00 €</td>\n",
       "      <td>-</td>\n",
       "      <td>GUT</td>\n",
       "      <td>BEIGE, CREME</td>\n",
       "      <td>https://www.vinted.de/damen/taschen/handtasche...</td>\n",
       "    </tr>\n",
       "    <tr>\n",
       "      <th>5</th>\n",
       "      <td>2021-08-23</td>\n",
       "      <td>1270574326-originale-jacquemus-tote-le-petite-...</td>\n",
       "      <td>taschen</td>\n",
       "      <td>umhangetaschen</td>\n",
       "      <td>JACQUEMUS</td>\n",
       "      <td>130,00 €</td>\n",
       "      <td>-</td>\n",
       "      <td>NEU, MIT ETIKETT</td>\n",
       "      <td>BLAU, WEISS</td>\n",
       "      <td>https://www.vinted.de/damen/taschen/umhangetas...</td>\n",
       "    </tr>\n",
       "  </tbody>\n",
       "</table>\n",
       "</div>"
      ],
      "text/plain": [
       "  Upload_date                                         Product_Id  \\\n",
       "0  2021-08-24                           1272555950-jacquemus-hut   \n",
       "1  2021-08-24  1272200393-orig-jacquemus-vanity-olive-print-m...   \n",
       "2  2021-08-23  1271641069-jacquemus-ascea-top-oberteil-weiss-...   \n",
       "3  2021-08-23             1271504264-jacquemus-le-petit-chiquito   \n",
       "4  2021-08-23                               1271159067-jacquemus   \n",
       "5  2021-08-23  1270574326-originale-jacquemus-tote-le-petite-...   \n",
       "\n",
       "            Category         Sub_Category      Brand     Price        Size  \\\n",
       "0        accessoires  hute-and-mutzen-231  JACQUEMUS  125,00 €           -   \n",
       "1            taschen       umhangetaschen  JACQUEMUS  120,00 €           -   \n",
       "2  tops-and-t-shirts   schulterfreie-tops  JACQUEMUS  200,00 €  S / 36 / 8   \n",
       "3            taschen          handtaschen  JACQUEMUS  150,00 €           -   \n",
       "4            taschen          handtaschen  JACQUEMUS  199,00 €           -   \n",
       "5            taschen       umhangetaschen  JACQUEMUS  130,00 €           -   \n",
       "\n",
       "          Condition        Colour  \\\n",
       "0          SEHR GUT         KHAKI   \n",
       "1  NEU, MIT ETIKETT      HELLBLAU   \n",
       "2               NEU  WEISS, CREME   \n",
       "3               NEU   BLAU, WEISS   \n",
       "4               GUT  BEIGE, CREME   \n",
       "5  NEU, MIT ETIKETT   BLAU, WEISS   \n",
       "\n",
       "                                                 URL  \n",
       "0  https://www.vinted.de/damen/accessoires/hute-a...  \n",
       "1  https://www.vinted.de/damen/taschen/umhangetas...  \n",
       "2  https://www.vinted.de/damen/kleidung/tops-and-...  \n",
       "3  https://www.vinted.de/damen/taschen/handtasche...  \n",
       "4  https://www.vinted.de/damen/taschen/handtasche...  \n",
       "5  https://www.vinted.de/damen/taschen/umhangetas...  "
      ]
     },
     "metadata": {},
     "execution_count": 168
    }
   ],
   "metadata": {}
  },
  {
   "cell_type": "code",
   "execution_count": 169,
   "source": [
    "# get product_details_df from yesterday \n",
    "date_suffix_yes = ''.join(str(yesterday).split('-'))\n",
    "product_details_df_old = pd.read_csv(f'data/{date_suffix_yes}_product_details.csv', index_col=0)\n",
    "\n",
    "# get elements in product_details_df_new that are NOT in product_details_df_old\n",
    "new_non_duplicate = np.setdiff1d(list(product_details_df['Product_Id']),list(product_details_df_old['Product_Id']))\n",
    "\n",
    "# save product_details_df, keep only product_ids that were not in yesterdays df\n",
    "date_suffix = ''.join(str(today).split('-'))\n",
    "filt = product_details_df['Product_Id'].isin(list(new_non_duplicate))\n",
    "product_details_df[filt].to_csv(f'data/{date_suffix}_product_details.csv')\n",
    "product_details_today = product_details_df[filt].copy()"
   ],
   "outputs": [],
   "metadata": {}
  },
  {
   "cell_type": "code",
   "execution_count": 171,
   "source": [
    "# import google credentials\n",
    "scope = [SPSH_URL,\n",
    "         GAPI_URL]\n",
    "credentials = ServiceAccountCredentials.from_json_keyfile_name(\n",
    "    GKEY_PATH, scope)\n",
    "gc = gspread.authorize(credentials)"
   ],
   "outputs": [],
   "metadata": {}
  },
  {
   "cell_type": "code",
   "execution_count": 172,
   "source": [
    "spreadsheet_key = SPSH_KEY\n",
    "wks_name = 'crawler_output'\n",
    "# if now df uploaded yet\n",
    "#d2g.upload(product_details_df, spreadsheet_key, wks_name, credentials=credentials, col_names=True, row_names=True)"
   ],
   "outputs": [],
   "metadata": {}
  },
  {
   "cell_type": "code",
   "execution_count": 173,
   "source": [
    "ws = gc.open_by_key(spreadsheet_key).worksheet(wks_name)\n",
    "\n",
    "# add as many rows as new dataframe has \n",
    "empty_row = ['' for cell in range(ws.col_count)]\n",
    "for row in range(product_details_today.shape[0]):\n",
    "    ws.insert_row(empty_row, index=2)\n",
    "\n",
    "# upload new df to google sheet\n",
    "gd.set_with_dataframe(worksheet=ws,dataframe=product_details_today\n",
    ",include_index=False, include_column_header=False, row=2, resize=False)\n"
   ],
   "outputs": [],
   "metadata": {}
  },
  {
   "cell_type": "code",
   "execution_count": null,
   "source": [],
   "outputs": [],
   "metadata": {}
  }
 ]
}