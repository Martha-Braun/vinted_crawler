{
 "metadata": {
  "language_info": {
   "codemirror_mode": {
    "name": "ipython",
    "version": 3
   },
   "file_extension": ".py",
   "mimetype": "text/x-python",
   "name": "python",
   "nbconvert_exporter": "python",
   "pygments_lexer": "ipython3",
   "version": "3.7.3"
  },
  "orig_nbformat": 2,
  "kernelspec": {
   "name": "python3",
   "display_name": "Python 3.7.3 64-bit ('vinted-crawler-package-zvLrHxc3-py3.7': poetry)"
  },
  "interpreter": {
   "hash": "8eb28134678f2beb3d6ac485baa6360e9b90b07549ca83bb032849a1350c04e7"
  }
 },
 "nbformat": 4,
 "nbformat_minor": 2,
 "cells": [
  {
   "cell_type": "code",
   "execution_count": 142,
   "source": [
    "# import libraries\n",
    "import pandas as pd\n",
    "import numpy as np\n",
    "from selenium import webdriver\n",
    "from selenium.webdriver.chrome.options import Options\n",
    "from selenium.webdriver import ActionChains\n",
    "from selenium.common.exceptions import NoSuchElementException\n",
    "import time\n",
    "import datetime\n",
    "from tqdm import tqdm\n",
    "import gspread\n",
    "from df2gspread import df2gspread as d2g\n",
    "from oauth2client.service_account import ServiceAccountCredentials\n",
    "import gspread_dataframe as gd\n",
    "\n",
    "# constants\n",
    "from confidential.conf_constants import *"
   ],
   "outputs": [],
   "metadata": {}
  },
  {
   "cell_type": "code",
   "execution_count": 143,
   "source": [
    "# setting up chrome options\n",
    "chrome_options = Options()\n",
    "# browsing in incognito mode\n",
    "chrome_options.add_argument(\"--incognito\")\n",
    "# setting window size to 1920x1080\n",
    "chrome_options.add_argument(\"--window-size=1920x1080\")"
   ],
   "outputs": [],
   "metadata": {}
  },
  {
   "cell_type": "code",
   "execution_count": 144,
   "source": [
    "# create instance\n",
    "driver = webdriver.Chrome(chrome_options=chrome_options, executable_path=\n",
    "\"/Users/marthab/Desktop/Python_Labs/vinted_crawler/chromedriver\")"
   ],
   "outputs": [
    {
     "output_type": "stream",
     "name": "stderr",
     "text": [
      "/Users/marthab/Library/Caches/pypoetry/virtualenvs/vinted-crawler-package-zvLrHxc3-py3.7/lib/python3.7/site-packages/ipykernel_launcher.py:3: DeprecationWarning: use options instead of chrome_options\n",
      "  This is separate from the ipykernel package so we can avoid doing imports until\n"
     ]
    }
   ],
   "metadata": {}
  },
  {
   "cell_type": "code",
   "execution_count": 145,
   "source": [
    "# set url to Women > Jacquemus > filter:newest first\n",
    "url = \"https://www.vinted.de/vetements?brand_id[]=168278&catalog[]=1904&order=newest_first\"\n",
    "driver.get(url)\n",
    "\n",
    "# wait 2 sec for page to fully load\n",
    "time.sleep(2)"
   ],
   "outputs": [],
   "metadata": {}
  },
  {
   "cell_type": "code",
   "execution_count": 146,
   "source": [
    "# don't accept cookies\n",
    "try:\n",
    "# privatsphäre-einstellung alle ablehnen\n",
    "    reject_all_button = driver.find_element_by_css_selector(\"#onetrust-reject-all-handler\")\n",
    "    ActionChains(driver).click(reject_all_button).perform()\n",
    "#NoSuchElementException thrown if not present\n",
    "except NoSuchElementException:\n",
    "    print(\"Not asked for privacy settings\")\n",
    "\n",
    "# choose country Germany\n",
    "try:\n",
    "    germany_button = driver.find_element_by_xpath(\"/html/body/div[13]/div/div/div/div[3]/div[3]/div[2]/div/h2/span\")\n",
    "    ActionChains(driver).click(germany_button).perform()\n",
    "except NoSuchElementException:\n",
    "    print(\"Not asked for country\")\n",
    "\n",
    "# wait 2 sec for page to fully load\n",
    "time.sleep(2)"
   ],
   "outputs": [],
   "metadata": {}
  },
  {
   "cell_type": "code",
   "execution_count": 147,
   "source": [
    "# make sure you are on the right page\n",
    "if 'brand_id[]=168278&catalog[]=1904' not in driver.current_url:\n",
    "    url = \"https://www.vinted.de/vetements?brand_id[]=168278&catalog[]=1904&order=newest_first\"\n",
    "    driver.get(url)\n",
    "    time.sleep(2)"
   ],
   "outputs": [],
   "metadata": {}
  },
  {
   "cell_type": "code",
   "execution_count": 148,
   "source": [
    "# get url of all products on first 5 pages\n",
    "product_urls = []\n",
    "for page in range(1, 5, 1):\n",
    "    page_url = f\"https://www.vinted.de/vetements?brand_id[]=168278&catalog[]=1904&order=newest_first&page={page}\"\n",
    "    driver.get(page_url)\n",
    "    products = driver.find_elements_by_css_selector(\"a.ItemBox_overlay__1kNfX\")\n",
    "    product_urls_page = [prod.get_attribute(\"href\") for prod in products]\n",
    "    product_urls.extend(product_urls_page)"
   ],
   "outputs": [],
   "metadata": {}
  },
  {
   "cell_type": "code",
   "execution_count": 149,
   "source": [
    "#scraping individual product details\n",
    "product_details=[]\n",
    "today = datetime.datetime.now().date() \n",
    "yesterday = today - datetime.timedelta(days=1)\n",
    "\n",
    "for product_url in tqdm(product_urls):\n",
    "    driver.get(product_url)\n",
    "\n",
    "    # get upload_date and stop for loop if item was uploaded more than 1 day ago\n",
    "    upload_date_full = driver.find_element_by_xpath(\"//div[@class='details-list__item-value']/time\").get_attribute(\"datetime\")\n",
    "    upload_date = datetime.datetime.strptime(upload_date_full, \"%Y-%m-%dT%H:%M:%S%z\").date()\n",
    "    if upload_date != yesterday and upload_date != today:\n",
    "        break\n",
    "\n",
    "    # get product id from url\n",
    "    product_id = product_url.split('/')[-1]\n",
    "\n",
    "    # get product subcatgory from url\n",
    "    product_subcat = product_url.split('/')[-2]\n",
    "\n",
    "    # get product catgory from url\n",
    "    product_cat = product_url.split('/')[-3]\n",
    "\n",
    "    # get brand\n",
    "    brand = driver.find_element_by_xpath(\"//a[@itemprop='url']/span[@itemprop='name']\").text\n",
    "\n",
    "    # get price\n",
    "    price = driver.find_element_by_xpath('/html/body/div[5]/div/section/div/div[2]/main/aside/div[1]/div[1]/div[1]/div[1]/span/div').text\n",
    "\n",
    "    # get size \n",
    "    try:\n",
    "        size_check = driver.find_element_by_xpath(\"//div[@class='details-list__item u-position-relative']/div[contains(text(), 'Größe')]\")\n",
    "        size = driver.find_element_by_xpath('/html/body/div[5]/div/section/div/div[2]/main/aside/div[1]/div[1]/div[2]/div[2]/div[2]').text\n",
    "    except NoSuchElementException:\n",
    "        size = \"-\"\n",
    "\n",
    "    # get item condition\n",
    "    try:\n",
    "        condition = driver.find_element_by_xpath(\"//div[@itemprop='itemCondition']\").text\n",
    "    except:\n",
    "        condition = \"-\"\n",
    "\n",
    "    # get colour\n",
    "    try:\n",
    "        colour = driver.find_element_by_xpath(\"//div[@itemprop='color']\").text\n",
    "    except NoSuchElementException:\n",
    "        colour = \"-\"\n",
    "\n",
    "\n",
    "    infos ={\n",
    "        'Upload_date':upload_date,\n",
    "        'Product_Id':product_id,\n",
    "        'Category':product_cat,\n",
    "        'Sub_Category':product_subcat,\n",
    "        'Brand':brand,\n",
    "        'Price':price,\n",
    "        'Size':size,\n",
    "        'Condition':condition,\n",
    "        'Colour':colour,\n",
    "        'URL':product_url}\n",
    "\n",
    "    product_details.append(infos)\n",
    "\n",
    "    "
   ],
   "outputs": [
    {
     "output_type": "stream",
     "name": "stderr",
     "text": [
      "  5%|▌         | 5/93 [00:16<04:43,  3.22s/it]\n"
     ]
    }
   ],
   "metadata": {}
  },
  {
   "cell_type": "code",
   "execution_count": 150,
   "source": [
    "product_details_df = pd.DataFrame(product_details)\n",
    "product_details_df"
   ],
   "outputs": [
    {
     "output_type": "execute_result",
     "data": {
      "text/plain": [
       "  Upload_date                                         Product_Id  \\\n",
       "0  2021-08-23                               1271159067-jacquemus   \n",
       "1  2021-08-23                        1270659705-jacquemus-tasche   \n",
       "2  2021-08-23  1270574326-originale-jacquemus-tote-le-petite-...   \n",
       "3  2021-08-22    1269571874-jacquemus-beige-strickjacke-kurz-neu   \n",
       "4  2021-08-22              1268344373-jacquemus-heels-les-raphia   \n",
       "\n",
       "                    Category          Sub_Category      Brand     Price  \\\n",
       "0                    taschen           handtaschen  JACQUEMUS  199,00 €   \n",
       "1                    taschen        umhangetaschen  JACQUEMUS  350,00 €   \n",
       "2                    taschen        umhangetaschen  JACQUEMUS  130,00 €   \n",
       "3  hoodies-and-langarmshirts               boleros  JACQUEMUS  150,00 €   \n",
       "4               absatzschuhe  high-heels-and-pumps  JACQUEMUS  180,00 €   \n",
       "\n",
       "         Size         Condition              Colour  \\\n",
       "0           -               GUT        BEIGE, CREME   \n",
       "1           -               NEU               WEISS   \n",
       "2           -  NEU, MIT ETIKETT         BLAU, WEISS   \n",
       "3  S / 36 / 8  NEU, MIT ETIKETT        BRAUN, BEIGE   \n",
       "4          37               NEU  ORANGE, SENFFARBEN   \n",
       "\n",
       "                                                 URL  \n",
       "0  https://www.vinted.de/damen/taschen/handtasche...  \n",
       "1  https://www.vinted.de/damen/taschen/umhangetas...  \n",
       "2  https://www.vinted.de/damen/taschen/umhangetas...  \n",
       "3  https://www.vinted.de/damen/kleidung/hoodies-a...  \n",
       "4  https://www.vinted.de/damen/schuhe/absatzschuh...  "
      ],
      "text/html": [
       "<div>\n",
       "<style scoped>\n",
       "    .dataframe tbody tr th:only-of-type {\n",
       "        vertical-align: middle;\n",
       "    }\n",
       "\n",
       "    .dataframe tbody tr th {\n",
       "        vertical-align: top;\n",
       "    }\n",
       "\n",
       "    .dataframe thead th {\n",
       "        text-align: right;\n",
       "    }\n",
       "</style>\n",
       "<table border=\"1\" class=\"dataframe\">\n",
       "  <thead>\n",
       "    <tr style=\"text-align: right;\">\n",
       "      <th></th>\n",
       "      <th>Upload_date</th>\n",
       "      <th>Product_Id</th>\n",
       "      <th>Category</th>\n",
       "      <th>Sub_Category</th>\n",
       "      <th>Brand</th>\n",
       "      <th>Price</th>\n",
       "      <th>Size</th>\n",
       "      <th>Condition</th>\n",
       "      <th>Colour</th>\n",
       "      <th>URL</th>\n",
       "    </tr>\n",
       "  </thead>\n",
       "  <tbody>\n",
       "    <tr>\n",
       "      <th>0</th>\n",
       "      <td>2021-08-23</td>\n",
       "      <td>1271159067-jacquemus</td>\n",
       "      <td>taschen</td>\n",
       "      <td>handtaschen</td>\n",
       "      <td>JACQUEMUS</td>\n",
       "      <td>199,00 €</td>\n",
       "      <td>-</td>\n",
       "      <td>GUT</td>\n",
       "      <td>BEIGE, CREME</td>\n",
       "      <td>https://www.vinted.de/damen/taschen/handtasche...</td>\n",
       "    </tr>\n",
       "    <tr>\n",
       "      <th>1</th>\n",
       "      <td>2021-08-23</td>\n",
       "      <td>1270659705-jacquemus-tasche</td>\n",
       "      <td>taschen</td>\n",
       "      <td>umhangetaschen</td>\n",
       "      <td>JACQUEMUS</td>\n",
       "      <td>350,00 €</td>\n",
       "      <td>-</td>\n",
       "      <td>NEU</td>\n",
       "      <td>WEISS</td>\n",
       "      <td>https://www.vinted.de/damen/taschen/umhangetas...</td>\n",
       "    </tr>\n",
       "    <tr>\n",
       "      <th>2</th>\n",
       "      <td>2021-08-23</td>\n",
       "      <td>1270574326-originale-jacquemus-tote-le-petite-...</td>\n",
       "      <td>taschen</td>\n",
       "      <td>umhangetaschen</td>\n",
       "      <td>JACQUEMUS</td>\n",
       "      <td>130,00 €</td>\n",
       "      <td>-</td>\n",
       "      <td>NEU, MIT ETIKETT</td>\n",
       "      <td>BLAU, WEISS</td>\n",
       "      <td>https://www.vinted.de/damen/taschen/umhangetas...</td>\n",
       "    </tr>\n",
       "    <tr>\n",
       "      <th>3</th>\n",
       "      <td>2021-08-22</td>\n",
       "      <td>1269571874-jacquemus-beige-strickjacke-kurz-neu</td>\n",
       "      <td>hoodies-and-langarmshirts</td>\n",
       "      <td>boleros</td>\n",
       "      <td>JACQUEMUS</td>\n",
       "      <td>150,00 €</td>\n",
       "      <td>S / 36 / 8</td>\n",
       "      <td>NEU, MIT ETIKETT</td>\n",
       "      <td>BRAUN, BEIGE</td>\n",
       "      <td>https://www.vinted.de/damen/kleidung/hoodies-a...</td>\n",
       "    </tr>\n",
       "    <tr>\n",
       "      <th>4</th>\n",
       "      <td>2021-08-22</td>\n",
       "      <td>1268344373-jacquemus-heels-les-raphia</td>\n",
       "      <td>absatzschuhe</td>\n",
       "      <td>high-heels-and-pumps</td>\n",
       "      <td>JACQUEMUS</td>\n",
       "      <td>180,00 €</td>\n",
       "      <td>37</td>\n",
       "      <td>NEU</td>\n",
       "      <td>ORANGE, SENFFARBEN</td>\n",
       "      <td>https://www.vinted.de/damen/schuhe/absatzschuh...</td>\n",
       "    </tr>\n",
       "  </tbody>\n",
       "</table>\n",
       "</div>"
      ]
     },
     "metadata": {},
     "execution_count": 150
    }
   ],
   "metadata": {}
  },
  {
   "cell_type": "code",
   "execution_count": 155,
   "source": [
    "# get product_details_df from yesterday \n",
    "date_suffix_yes = ''.join(str(yesterday).split('-'))\n",
    "product_details_df_old = pd.read_csv(f'data/{date_suffix_yes}_product_details.csv', index_col=0)\n",
    "\n",
    "# get elements in product_details_df_new that are NOT in product_details_df_old\n",
    "new_non_duplicate = np.setdiff1d(list(product_details_df['Product_Id']),list(product_details_df_old['Product_Id']))\n",
    "\n",
    "# save product_details_df, keep only product_ids that were not in yesterdays df\n",
    "date_suffix = ''.join(str(today).split('-'))\n",
    "filt = product_details_df['Product_Id'].isin(list(new_non_duplicate))\n",
    "product_details_df[filt].to_csv(f'data/{date_suffix}_product_details.csv')\n",
    "product_details_today = product_details_df[filt].copy()"
   ],
   "outputs": [],
   "metadata": {}
  },
  {
   "cell_type": "code",
   "execution_count": 157,
   "source": [
    "# import google credentials\n",
    "scope = [SPSH_URL,\n",
    "         GAPI_URL]\n",
    "credentials = ServiceAccountCredentials.from_json_keyfile_name(\n",
    "    GKEY_PATH, scope)\n",
    "gc = gspread.authorize(credentials)"
   ],
   "outputs": [],
   "metadata": {}
  },
  {
   "cell_type": "code",
   "execution_count": 158,
   "source": [
    "spreadsheet_key = SPSH_KEY\n",
    "wks_name = 'crawler_output'\n",
    "# if now df uploaded yet\n",
    "#d2g.upload(product_details_df, spreadsheet_key, wks_name, credentials=credentials, col_names=True, row_names=True)"
   ],
   "outputs": [],
   "metadata": {}
  },
  {
   "cell_type": "code",
   "execution_count": 159,
   "source": [
    "ws = gc.open_by_key(spreadsheet_key).worksheet(wks_name)\n",
    "\n",
    "# add as many rows as new dataframe has \n",
    "empty_row = ['' for cell in range(ws.col_count)]\n",
    "for row in range(product_details_today.shape[0]):\n",
    "    ws.insert_row(empty_row, index=2)\n",
    "\n",
    "# upload new df to google sheet\n",
    "gd.set_with_dataframe(worksheet=ws,dataframe=product_details_today\n",
    ",include_index=False, include_column_header=False, row=2, resize=False)\n"
   ],
   "outputs": [],
   "metadata": {}
  }
 ]
}